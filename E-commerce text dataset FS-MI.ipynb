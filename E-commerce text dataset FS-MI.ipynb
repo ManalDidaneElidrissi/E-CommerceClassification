{
 "cells": [
  {
   "cell_type": "markdown",
   "id": "0173cbb2",
   "metadata": {},
   "source": [
    "# E-commerce text dataset using Mutual information"
   ]
  },
  {
   "cell_type": "markdown",
   "id": "f54d4ab7",
   "metadata": {},
   "source": [
    "## Preprocessing "
   ]
  },
  {
   "cell_type": "markdown",
   "id": "00cd8532",
   "metadata": {},
   "source": [
    "### Importing libraries"
   ]
  },
  {
   "cell_type": "code",
   "execution_count": 1,
   "id": "24a84269",
   "metadata": {},
   "outputs": [
    {
     "data": {
      "text/html": [
       "        <script type=\"text/javascript\">\n",
       "        window.PlotlyConfig = {MathJaxConfig: 'local'};\n",
       "        if (window.MathJax && window.MathJax.Hub && window.MathJax.Hub.Config) {window.MathJax.Hub.Config({SVG: {font: \"STIX-Web\"}});}\n",
       "        if (typeof require !== 'undefined') {\n",
       "        require.undef(\"plotly\");\n",
       "        requirejs.config({\n",
       "            paths: {\n",
       "                'plotly': ['https://cdn.plot.ly/plotly-2.12.1.min']\n",
       "            }\n",
       "        });\n",
       "        require(['plotly'], function(Plotly) {\n",
       "            window._Plotly = Plotly;\n",
       "        });\n",
       "        }\n",
       "        </script>\n",
       "        "
      ]
     },
     "metadata": {},
     "output_type": "display_data"
    },
    {
     "name": "stdout",
     "output_type": "stream",
     "text": [
      "Requirement already satisfied: num2words in c:\\users\\manal\\anaconda3\\lib\\site-packages (0.5.12)\n",
      "Requirement already satisfied: docopt>=0.6.2 in c:\\users\\manal\\anaconda3\\lib\\site-packages (from num2words) (0.6.2)\n"
     ]
    }
   ],
   "source": [
    "# File system manangement\n",
    "import os\n",
    "\n",
    "# Data manipulation\n",
    "import numpy as np\n",
    "import pandas as pd\n",
    "\n",
    "# Plotting and visualization\n",
    "import matplotlib\n",
    "import matplotlib.pyplot as plt\n",
    "import seaborn as sns\n",
    "sns.set_theme()\n",
    "import plotly.express as px\n",
    "import plotly.graph_objects as go\n",
    "from plotly.subplots import make_subplots\n",
    "from plotly.offline import init_notebook_mode, iplot\n",
    "init_notebook_mode(connected=True)\n",
    "\n",
    "# NLP\n",
    "import string, re, nltk\n",
    "from string import punctuation\n",
    "from nltk.tokenize import word_tokenize, RegexpTokenizer\n",
    "from nltk.corpus import stopwords\n",
    "!pip install num2words\n",
    "from num2words import num2words\n",
    "from nltk.stem import WordNetLemmatizer"
   ]
  },
  {
   "cell_type": "markdown",
   "id": "177b0e67",
   "metadata": {},
   "source": [
    "### Data"
   ]
  },
  {
   "cell_type": "code",
   "execution_count": 2,
   "id": "f88ab82c",
   "metadata": {},
   "outputs": [
    {
     "data": {
      "text/html": [
       "<div>\n",
       "<style scoped>\n",
       "    .dataframe tbody tr th:only-of-type {\n",
       "        vertical-align: middle;\n",
       "    }\n",
       "\n",
       "    .dataframe tbody tr th {\n",
       "        vertical-align: top;\n",
       "    }\n",
       "\n",
       "    .dataframe thead th {\n",
       "        text-align: right;\n",
       "    }\n",
       "</style>\n",
       "<table border=\"1\" class=\"dataframe\">\n",
       "  <thead>\n",
       "    <tr style=\"text-align: right;\">\n",
       "      <th></th>\n",
       "      <th>Category</th>\n",
       "      <th>Description</th>\n",
       "    </tr>\n",
       "  </thead>\n",
       "  <tbody>\n",
       "    <tr>\n",
       "      <th>0</th>\n",
       "      <td>Household</td>\n",
       "      <td>Paper Plane Design Framed Wall Hanging Motivat...</td>\n",
       "    </tr>\n",
       "    <tr>\n",
       "      <th>1</th>\n",
       "      <td>Household</td>\n",
       "      <td>SAF 'Floral' Framed Painting (Wood, 30 inch x ...</td>\n",
       "    </tr>\n",
       "    <tr>\n",
       "      <th>2</th>\n",
       "      <td>Household</td>\n",
       "      <td>SAF 'UV Textured Modern Art Print Framed' Pain...</td>\n",
       "    </tr>\n",
       "    <tr>\n",
       "      <th>3</th>\n",
       "      <td>Household</td>\n",
       "      <td>SAF Flower Print Framed Painting (Synthetic, 1...</td>\n",
       "    </tr>\n",
       "    <tr>\n",
       "      <th>4</th>\n",
       "      <td>Household</td>\n",
       "      <td>Incredible Gifts India Wooden Happy Birthday U...</td>\n",
       "    </tr>\n",
       "    <tr>\n",
       "      <th>...</th>\n",
       "      <td>...</td>\n",
       "      <td>...</td>\n",
       "    </tr>\n",
       "    <tr>\n",
       "      <th>50420</th>\n",
       "      <td>Electronics</td>\n",
       "      <td>Strontium MicroSD Class 10 8GB Memory Card (Bl...</td>\n",
       "    </tr>\n",
       "    <tr>\n",
       "      <th>50421</th>\n",
       "      <td>Electronics</td>\n",
       "      <td>CrossBeats Wave Waterproof Bluetooth Wireless ...</td>\n",
       "    </tr>\n",
       "    <tr>\n",
       "      <th>50422</th>\n",
       "      <td>Electronics</td>\n",
       "      <td>Karbonn Titanium Wind W4 (White) Karbonn Titan...</td>\n",
       "    </tr>\n",
       "    <tr>\n",
       "      <th>50423</th>\n",
       "      <td>Electronics</td>\n",
       "      <td>Samsung Guru FM Plus (SM-B110E/D, Black) Colou...</td>\n",
       "    </tr>\n",
       "    <tr>\n",
       "      <th>50424</th>\n",
       "      <td>Electronics</td>\n",
       "      <td>Micromax Canvas Win W121 (White)</td>\n",
       "    </tr>\n",
       "  </tbody>\n",
       "</table>\n",
       "<p>50425 rows × 2 columns</p>\n",
       "</div>"
      ],
      "text/plain": [
       "          Category                                        Description\n",
       "0        Household  Paper Plane Design Framed Wall Hanging Motivat...\n",
       "1        Household  SAF 'Floral' Framed Painting (Wood, 30 inch x ...\n",
       "2        Household  SAF 'UV Textured Modern Art Print Framed' Pain...\n",
       "3        Household  SAF Flower Print Framed Painting (Synthetic, 1...\n",
       "4        Household  Incredible Gifts India Wooden Happy Birthday U...\n",
       "...            ...                                                ...\n",
       "50420  Electronics  Strontium MicroSD Class 10 8GB Memory Card (Bl...\n",
       "50421  Electronics  CrossBeats Wave Waterproof Bluetooth Wireless ...\n",
       "50422  Electronics  Karbonn Titanium Wind W4 (White) Karbonn Titan...\n",
       "50423  Electronics  Samsung Guru FM Plus (SM-B110E/D, Black) Colou...\n",
       "50424  Electronics                   Micromax Canvas Win W121 (White)\n",
       "\n",
       "[50425 rows x 2 columns]"
      ]
     },
     "execution_count": 2,
     "metadata": {},
     "output_type": "execute_result"
    }
   ],
   "source": [
    "data = pd.read_csv('C:/Users/manal/OneDrive/Desktop/MBDIO/S2/Text_Mining/Projet/E-commerce_Dataset.csv', \n",
    "                    names = ['Category', 'Description'])\n",
    "data"
   ]
  },
  {
   "cell_type": "code",
   "execution_count": 3,
   "id": "0efe593a",
   "metadata": {},
   "outputs": [
    {
     "data": {
      "text/plain": [
       "'Paper Plane Design Framed Wall Hanging Motivational Office Decor Art Prints (8.7 X 8.7 inch) - Set of 4 Painting made up in synthetic frame with uv textured print which gives multi effects and attracts towards it. This is an special series of paintings which makes your wall very beautiful and gives a royal touch. This painting is ready to hang, you would be proud to possess this unique painting that is a niche apart. We use only the most modern and efficient printing technology on our prints, with only the and inks and precision epson, roland and hp printers. This innovative hd printing technique results in durable and spectacular looking prints of the highest that last a lifetime. We print solely with top-notch 100% inks, to achieve brilliant and true colours. Due to their high level of uv resistance, our prints retain their beautiful colours for many years. Add colour and style to your living space with this digitally printed painting. Some are for pleasure and some for eternal bliss.so bring home this elegant print that is lushed with rich colors that makes it nothing but sheer elegance to be to your friends and family.it would be treasured forever by whoever your lucky recipient is. Liven up your place with these intriguing paintings that are high definition hd graphic digital prints for home, office or any room.'"
      ]
     },
     "execution_count": 3,
     "metadata": {},
     "output_type": "execute_result"
    }
   ],
   "source": [
    "# Example of Description column\n",
    "data['Description'].iloc[0]"
   ]
  },
  {
   "cell_type": "code",
   "execution_count": 4,
   "id": "b4a28846",
   "metadata": {},
   "outputs": [
    {
     "name": "stdout",
     "output_type": "stream",
     "text": [
      "Number of observations with missing values        1\n",
      "Number of duplicate observations              22622\n"
     ]
    }
   ],
   "source": [
    "# Missing values and duplicate observations\n",
    "print(pd.Series({\"Number of observations with missing values\": len(data) - len(data.dropna()),\n",
    "                 \"Number of duplicate observations\": data.duplicated().sum()}).to_string())"
   ]
  },
  {
   "cell_type": "code",
   "execution_count": 5,
   "id": "e98ebef3",
   "metadata": {},
   "outputs": [],
   "source": [
    "# Dropping observations with missing values\n",
    "data.dropna(inplace = True)\n",
    "\n",
    "# Dropping duplicate observations\n",
    "data.drop_duplicates(inplace = True)\n",
    "\n",
    "# Resetting index\n",
    "data.reset_index(drop = True, inplace = True) "
   ]
  },
  {
   "cell_type": "code",
   "execution_count": 6,
   "id": "3ef81750",
   "metadata": {},
   "outputs": [
    {
     "data": {
      "text/html": [
       "<div>\n",
       "<style scoped>\n",
       "    .dataframe tbody tr th:only-of-type {\n",
       "        vertical-align: middle;\n",
       "    }\n",
       "\n",
       "    .dataframe tbody tr th {\n",
       "        vertical-align: top;\n",
       "    }\n",
       "\n",
       "    .dataframe thead th {\n",
       "        text-align: right;\n",
       "    }\n",
       "</style>\n",
       "<table border=\"1\" class=\"dataframe\">\n",
       "  <thead>\n",
       "    <tr style=\"text-align: right;\">\n",
       "      <th></th>\n",
       "      <th>Category</th>\n",
       "      <th>Description</th>\n",
       "    </tr>\n",
       "  </thead>\n",
       "  <tbody>\n",
       "    <tr>\n",
       "      <th>0</th>\n",
       "      <td>Household</td>\n",
       "      <td>Paper Plane Design Framed Wall Hanging Motivat...</td>\n",
       "    </tr>\n",
       "    <tr>\n",
       "      <th>1</th>\n",
       "      <td>Household</td>\n",
       "      <td>SAF 'Floral' Framed Painting (Wood, 30 inch x ...</td>\n",
       "    </tr>\n",
       "    <tr>\n",
       "      <th>2</th>\n",
       "      <td>Household</td>\n",
       "      <td>SAF 'UV Textured Modern Art Print Framed' Pain...</td>\n",
       "    </tr>\n",
       "    <tr>\n",
       "      <th>3</th>\n",
       "      <td>Household</td>\n",
       "      <td>SAF Flower Print Framed Painting (Synthetic, 1...</td>\n",
       "    </tr>\n",
       "    <tr>\n",
       "      <th>4</th>\n",
       "      <td>Household</td>\n",
       "      <td>Incredible Gifts India Wooden Happy Birthday U...</td>\n",
       "    </tr>\n",
       "    <tr>\n",
       "      <th>...</th>\n",
       "      <td>...</td>\n",
       "      <td>...</td>\n",
       "    </tr>\n",
       "    <tr>\n",
       "      <th>27797</th>\n",
       "      <td>Electronics</td>\n",
       "      <td>Micromax Bharat 5 Plus Zero impact on visual d...</td>\n",
       "    </tr>\n",
       "    <tr>\n",
       "      <th>27798</th>\n",
       "      <td>Electronics</td>\n",
       "      <td>Microsoft Lumia 550 8GB 4G Black Microsoft lum...</td>\n",
       "    </tr>\n",
       "    <tr>\n",
       "      <th>27799</th>\n",
       "      <td>Electronics</td>\n",
       "      <td>Microsoft Lumia 535 (Black, 8GB) Colour:Black ...</td>\n",
       "    </tr>\n",
       "    <tr>\n",
       "      <th>27800</th>\n",
       "      <td>Electronics</td>\n",
       "      <td>Karbonn Titanium Wind W4 (White) Karbonn Titan...</td>\n",
       "    </tr>\n",
       "    <tr>\n",
       "      <th>27801</th>\n",
       "      <td>Electronics</td>\n",
       "      <td>Nokia Lumia 530 (Dual SIM, Grey) Colour:Grey  ...</td>\n",
       "    </tr>\n",
       "  </tbody>\n",
       "</table>\n",
       "<p>27802 rows × 2 columns</p>\n",
       "</div>"
      ],
      "text/plain": [
       "          Category                                        Description\n",
       "0        Household  Paper Plane Design Framed Wall Hanging Motivat...\n",
       "1        Household  SAF 'Floral' Framed Painting (Wood, 30 inch x ...\n",
       "2        Household  SAF 'UV Textured Modern Art Print Framed' Pain...\n",
       "3        Household  SAF Flower Print Framed Painting (Synthetic, 1...\n",
       "4        Household  Incredible Gifts India Wooden Happy Birthday U...\n",
       "...            ...                                                ...\n",
       "27797  Electronics  Micromax Bharat 5 Plus Zero impact on visual d...\n",
       "27798  Electronics  Microsoft Lumia 550 8GB 4G Black Microsoft lum...\n",
       "27799  Electronics  Microsoft Lumia 535 (Black, 8GB) Colour:Black ...\n",
       "27800  Electronics  Karbonn Titanium Wind W4 (White) Karbonn Titan...\n",
       "27801  Electronics  Nokia Lumia 530 (Dual SIM, Grey) Colour:Grey  ...\n",
       "\n",
       "[27802 rows x 2 columns]"
      ]
     },
     "execution_count": 6,
     "metadata": {},
     "output_type": "execute_result"
    }
   ],
   "source": [
    "data"
   ]
  },
  {
   "cell_type": "code",
   "execution_count": 7,
   "id": "cfa97b41",
   "metadata": {},
   "outputs": [
    {
     "data": {
      "text/html": [
       "<div>\n",
       "<style scoped>\n",
       "    .dataframe tbody tr th:only-of-type {\n",
       "        vertical-align: middle;\n",
       "    }\n",
       "\n",
       "    .dataframe tbody tr th {\n",
       "        vertical-align: top;\n",
       "    }\n",
       "\n",
       "    .dataframe thead th {\n",
       "        text-align: right;\n",
       "    }\n",
       "</style>\n",
       "<table border=\"1\" class=\"dataframe\">\n",
       "  <thead>\n",
       "    <tr style=\"text-align: right;\">\n",
       "      <th></th>\n",
       "      <th>Description</th>\n",
       "      <th>Category</th>\n",
       "    </tr>\n",
       "  </thead>\n",
       "  <tbody>\n",
       "    <tr>\n",
       "      <th>0</th>\n",
       "      <td>Paper Plane Design Framed Wall Hanging Motivat...</td>\n",
       "      <td>1</td>\n",
       "    </tr>\n",
       "    <tr>\n",
       "      <th>1</th>\n",
       "      <td>SAF 'Floral' Framed Painting (Wood, 30 inch x ...</td>\n",
       "      <td>1</td>\n",
       "    </tr>\n",
       "    <tr>\n",
       "      <th>2</th>\n",
       "      <td>SAF 'UV Textured Modern Art Print Framed' Pain...</td>\n",
       "      <td>1</td>\n",
       "    </tr>\n",
       "    <tr>\n",
       "      <th>3</th>\n",
       "      <td>SAF Flower Print Framed Painting (Synthetic, 1...</td>\n",
       "      <td>1</td>\n",
       "    </tr>\n",
       "    <tr>\n",
       "      <th>4</th>\n",
       "      <td>Incredible Gifts India Wooden Happy Birthday U...</td>\n",
       "      <td>1</td>\n",
       "    </tr>\n",
       "    <tr>\n",
       "      <th>...</th>\n",
       "      <td>...</td>\n",
       "      <td>...</td>\n",
       "    </tr>\n",
       "    <tr>\n",
       "      <th>27797</th>\n",
       "      <td>Micromax Bharat 5 Plus Zero impact on visual d...</td>\n",
       "      <td>0</td>\n",
       "    </tr>\n",
       "    <tr>\n",
       "      <th>27798</th>\n",
       "      <td>Microsoft Lumia 550 8GB 4G Black Microsoft lum...</td>\n",
       "      <td>0</td>\n",
       "    </tr>\n",
       "    <tr>\n",
       "      <th>27799</th>\n",
       "      <td>Microsoft Lumia 535 (Black, 8GB) Colour:Black ...</td>\n",
       "      <td>0</td>\n",
       "    </tr>\n",
       "    <tr>\n",
       "      <th>27800</th>\n",
       "      <td>Karbonn Titanium Wind W4 (White) Karbonn Titan...</td>\n",
       "      <td>0</td>\n",
       "    </tr>\n",
       "    <tr>\n",
       "      <th>27801</th>\n",
       "      <td>Nokia Lumia 530 (Dual SIM, Grey) Colour:Grey  ...</td>\n",
       "      <td>0</td>\n",
       "    </tr>\n",
       "  </tbody>\n",
       "</table>\n",
       "<p>27802 rows × 2 columns</p>\n",
       "</div>"
      ],
      "text/plain": [
       "                                             Description  Category\n",
       "0      Paper Plane Design Framed Wall Hanging Motivat...         1\n",
       "1      SAF 'Floral' Framed Painting (Wood, 30 inch x ...         1\n",
       "2      SAF 'UV Textured Modern Art Print Framed' Pain...         1\n",
       "3      SAF Flower Print Framed Painting (Synthetic, 1...         1\n",
       "4      Incredible Gifts India Wooden Happy Birthday U...         1\n",
       "...                                                  ...       ...\n",
       "27797  Micromax Bharat 5 Plus Zero impact on visual d...         0\n",
       "27798  Microsoft Lumia 550 8GB 4G Black Microsoft lum...         0\n",
       "27799  Microsoft Lumia 535 (Black, 8GB) Colour:Black ...         0\n",
       "27800  Karbonn Titanium Wind W4 (White) Karbonn Titan...         0\n",
       "27801  Nokia Lumia 530 (Dual SIM, Grey) Colour:Grey  ...         0\n",
       "\n",
       "[27802 rows x 2 columns]"
      ]
     },
     "execution_count": 7,
     "metadata": {},
     "output_type": "execute_result"
    }
   ],
   "source": [
    "# Manual encoding of labels\n",
    "label_dict = {'Electronics': 0, 'Household': 1, 'Books': 2, 'Clothing & Accessories': 3}\n",
    "data.replace({'Category': label_dict}, inplace = True)\n",
    "data = data[['Description', 'Category']]\n",
    "\n",
    "data"
   ]
  },
  {
   "cell_type": "markdown",
   "id": "1fea6d4b",
   "metadata": {},
   "source": [
    "### Exploratory data analysis [EDA]"
   ]
  },
  {
   "cell_type": "code",
   "execution_count": 8,
   "id": "1232730b",
   "metadata": {},
   "outputs": [],
   "source": [
    "# Splitting the dataset by category in order to see how different textual attributes vary across classes\n",
    "data_E = data[data['Category'] == 0] # Electronics\n",
    "data_H = data[data['Category'] == 1] # Household\n",
    "data_B = data[data['Category'] == 2] # Books\n",
    "data_CA = data[data['Category'] == 3] # Clothing & Accessories"
   ]
  },
  {
   "cell_type": "code",
   "execution_count": 9,
   "id": "68a088f1",
   "metadata": {},
   "outputs": [
    {
     "data": {
      "text/html": [
       "<div>\n",
       "<style scoped>\n",
       "    .dataframe tbody tr th:only-of-type {\n",
       "        vertical-align: middle;\n",
       "    }\n",
       "\n",
       "    .dataframe tbody tr th {\n",
       "        vertical-align: top;\n",
       "    }\n",
       "\n",
       "    .dataframe thead th {\n",
       "        text-align: right;\n",
       "    }\n",
       "</style>\n",
       "<table border=\"1\" class=\"dataframe\">\n",
       "  <thead>\n",
       "    <tr style=\"text-align: right;\">\n",
       "      <th></th>\n",
       "      <th>Description</th>\n",
       "      <th>Category</th>\n",
       "    </tr>\n",
       "  </thead>\n",
       "  <tbody>\n",
       "    <tr>\n",
       "      <th>22494</th>\n",
       "      <td>Dell 19.5V-3.34AMP 65W Laptop Adapter (Without...</td>\n",
       "      <td>0</td>\n",
       "    </tr>\n",
       "    <tr>\n",
       "      <th>22495</th>\n",
       "      <td>Bluetooth Dongle USB CSR 4.0 Adapter Receiver ...</td>\n",
       "      <td>0</td>\n",
       "    </tr>\n",
       "    <tr>\n",
       "      <th>22496</th>\n",
       "      <td>Wi-Fi Receiver 300Mbps, 2.4GHz, 802.11b/g/n US...</td>\n",
       "      <td>0</td>\n",
       "    </tr>\n",
       "    <tr>\n",
       "      <th>22497</th>\n",
       "      <td>SanDisk 64GB Class 10 microSDXC Memory Card wi...</td>\n",
       "      <td>0</td>\n",
       "    </tr>\n",
       "    <tr>\n",
       "      <th>22498</th>\n",
       "      <td>Gizga Essentials Laptop Power Cable Cord- 3 Pi...</td>\n",
       "      <td>0</td>\n",
       "    </tr>\n",
       "    <tr>\n",
       "      <th>...</th>\n",
       "      <td>...</td>\n",
       "      <td>...</td>\n",
       "    </tr>\n",
       "    <tr>\n",
       "      <th>27797</th>\n",
       "      <td>Micromax Bharat 5 Plus Zero impact on visual d...</td>\n",
       "      <td>0</td>\n",
       "    </tr>\n",
       "    <tr>\n",
       "      <th>27798</th>\n",
       "      <td>Microsoft Lumia 550 8GB 4G Black Microsoft lum...</td>\n",
       "      <td>0</td>\n",
       "    </tr>\n",
       "    <tr>\n",
       "      <th>27799</th>\n",
       "      <td>Microsoft Lumia 535 (Black, 8GB) Colour:Black ...</td>\n",
       "      <td>0</td>\n",
       "    </tr>\n",
       "    <tr>\n",
       "      <th>27800</th>\n",
       "      <td>Karbonn Titanium Wind W4 (White) Karbonn Titan...</td>\n",
       "      <td>0</td>\n",
       "    </tr>\n",
       "    <tr>\n",
       "      <th>27801</th>\n",
       "      <td>Nokia Lumia 530 (Dual SIM, Grey) Colour:Grey  ...</td>\n",
       "      <td>0</td>\n",
       "    </tr>\n",
       "  </tbody>\n",
       "</table>\n",
       "<p>5308 rows × 2 columns</p>\n",
       "</div>"
      ],
      "text/plain": [
       "                                             Description  Category\n",
       "22494  Dell 19.5V-3.34AMP 65W Laptop Adapter (Without...         0\n",
       "22495  Bluetooth Dongle USB CSR 4.0 Adapter Receiver ...         0\n",
       "22496  Wi-Fi Receiver 300Mbps, 2.4GHz, 802.11b/g/n US...         0\n",
       "22497  SanDisk 64GB Class 10 microSDXC Memory Card wi...         0\n",
       "22498  Gizga Essentials Laptop Power Cable Cord- 3 Pi...         0\n",
       "...                                                  ...       ...\n",
       "27797  Micromax Bharat 5 Plus Zero impact on visual d...         0\n",
       "27798  Microsoft Lumia 550 8GB 4G Black Microsoft lum...         0\n",
       "27799  Microsoft Lumia 535 (Black, 8GB) Colour:Black ...         0\n",
       "27800  Karbonn Titanium Wind W4 (White) Karbonn Titan...         0\n",
       "27801  Nokia Lumia 530 (Dual SIM, Grey) Colour:Grey  ...         0\n",
       "\n",
       "[5308 rows x 2 columns]"
      ]
     },
     "execution_count": 9,
     "metadata": {},
     "output_type": "execute_result"
    }
   ],
   "source": [
    "data_E"
   ]
  },
  {
   "cell_type": "code",
   "execution_count": 10,
   "id": "d7114499",
   "metadata": {},
   "outputs": [
    {
     "data": {
      "text/html": [
       "<div>\n",
       "<style scoped>\n",
       "    .dataframe tbody tr th:only-of-type {\n",
       "        vertical-align: middle;\n",
       "    }\n",
       "\n",
       "    .dataframe tbody tr th {\n",
       "        vertical-align: top;\n",
       "    }\n",
       "\n",
       "    .dataframe thead th {\n",
       "        text-align: right;\n",
       "    }\n",
       "</style>\n",
       "<table border=\"1\" class=\"dataframe\">\n",
       "  <thead>\n",
       "    <tr style=\"text-align: right;\">\n",
       "      <th></th>\n",
       "      <th>Description</th>\n",
       "      <th>Category</th>\n",
       "    </tr>\n",
       "  </thead>\n",
       "  <tbody>\n",
       "    <tr>\n",
       "      <th>0</th>\n",
       "      <td>Paper Plane Design Framed Wall Hanging Motivat...</td>\n",
       "      <td>1</td>\n",
       "    </tr>\n",
       "    <tr>\n",
       "      <th>1</th>\n",
       "      <td>SAF 'Floral' Framed Painting (Wood, 30 inch x ...</td>\n",
       "      <td>1</td>\n",
       "    </tr>\n",
       "    <tr>\n",
       "      <th>2</th>\n",
       "      <td>SAF 'UV Textured Modern Art Print Framed' Pain...</td>\n",
       "      <td>1</td>\n",
       "    </tr>\n",
       "    <tr>\n",
       "      <th>3</th>\n",
       "      <td>SAF Flower Print Framed Painting (Synthetic, 1...</td>\n",
       "      <td>1</td>\n",
       "    </tr>\n",
       "    <tr>\n",
       "      <th>4</th>\n",
       "      <td>Incredible Gifts India Wooden Happy Birthday U...</td>\n",
       "      <td>1</td>\n",
       "    </tr>\n",
       "    <tr>\n",
       "      <th>...</th>\n",
       "      <td>...</td>\n",
       "      <td>...</td>\n",
       "    </tr>\n",
       "    <tr>\n",
       "      <th>10559</th>\n",
       "      <td>Docoss -(Large Size Xl) Hidden Secret Book Saf...</td>\n",
       "      <td>1</td>\n",
       "    </tr>\n",
       "    <tr>\n",
       "      <th>10560</th>\n",
       "      <td>Ozoy Outdoor Solar Lights 42 LED, Ultra High B...</td>\n",
       "      <td>1</td>\n",
       "    </tr>\n",
       "    <tr>\n",
       "      <th>10561</th>\n",
       "      <td>JY 8990 Industrial Security Purpose Metal Torc...</td>\n",
       "      <td>1</td>\n",
       "    </tr>\n",
       "    <tr>\n",
       "      <th>10562</th>\n",
       "      <td>RAISSER® Warm White, China : 2PCS Solar LED Pa...</td>\n",
       "      <td>1</td>\n",
       "    </tr>\n",
       "    <tr>\n",
       "      <th>10563</th>\n",
       "      <td>Zilant JY-8990 Rechargeable Industrial Securit...</td>\n",
       "      <td>1</td>\n",
       "    </tr>\n",
       "  </tbody>\n",
       "</table>\n",
       "<p>10564 rows × 2 columns</p>\n",
       "</div>"
      ],
      "text/plain": [
       "                                             Description  Category\n",
       "0      Paper Plane Design Framed Wall Hanging Motivat...         1\n",
       "1      SAF 'Floral' Framed Painting (Wood, 30 inch x ...         1\n",
       "2      SAF 'UV Textured Modern Art Print Framed' Pain...         1\n",
       "3      SAF Flower Print Framed Painting (Synthetic, 1...         1\n",
       "4      Incredible Gifts India Wooden Happy Birthday U...         1\n",
       "...                                                  ...       ...\n",
       "10559  Docoss -(Large Size Xl) Hidden Secret Book Saf...         1\n",
       "10560  Ozoy Outdoor Solar Lights 42 LED, Ultra High B...         1\n",
       "10561  JY 8990 Industrial Security Purpose Metal Torc...         1\n",
       "10562  RAISSER® Warm White, China : 2PCS Solar LED Pa...         1\n",
       "10563  Zilant JY-8990 Rechargeable Industrial Securit...         1\n",
       "\n",
       "[10564 rows x 2 columns]"
      ]
     },
     "execution_count": 10,
     "metadata": {},
     "output_type": "execute_result"
    }
   ],
   "source": [
    "data_H"
   ]
  },
  {
   "cell_type": "code",
   "execution_count": 11,
   "id": "903cf3d4",
   "metadata": {},
   "outputs": [
    {
     "data": {
      "text/html": [
       "<div>\n",
       "<style scoped>\n",
       "    .dataframe tbody tr th:only-of-type {\n",
       "        vertical-align: middle;\n",
       "    }\n",
       "\n",
       "    .dataframe tbody tr th {\n",
       "        vertical-align: top;\n",
       "    }\n",
       "\n",
       "    .dataframe thead th {\n",
       "        text-align: right;\n",
       "    }\n",
       "</style>\n",
       "<table border=\"1\" class=\"dataframe\">\n",
       "  <thead>\n",
       "    <tr style=\"text-align: right;\">\n",
       "      <th></th>\n",
       "      <th>Description</th>\n",
       "      <th>Category</th>\n",
       "    </tr>\n",
       "  </thead>\n",
       "  <tbody>\n",
       "    <tr>\n",
       "      <th>10564</th>\n",
       "      <td>Inner Engineering: A Yogi's Guide to Joy About...</td>\n",
       "      <td>2</td>\n",
       "    </tr>\n",
       "    <tr>\n",
       "      <th>10565</th>\n",
       "      <td>Muslims and Missionaries in Pre-Mutiny India</td>\n",
       "      <td>2</td>\n",
       "    </tr>\n",
       "    <tr>\n",
       "      <th>10566</th>\n",
       "      <td>The PCOD - Thyroid Book - Compiled From Women ...</td>\n",
       "      <td>2</td>\n",
       "    </tr>\n",
       "    <tr>\n",
       "      <th>10567</th>\n",
       "      <td>The Monk Who Sold His Ferrari Review Everyone ...</td>\n",
       "      <td>2</td>\n",
       "    </tr>\n",
       "    <tr>\n",
       "      <th>10568</th>\n",
       "      <td>The Secret of Secrets: The Secrets of the Gold...</td>\n",
       "      <td>2</td>\n",
       "    </tr>\n",
       "    <tr>\n",
       "      <th>...</th>\n",
       "      <td>...</td>\n",
       "      <td>...</td>\n",
       "    </tr>\n",
       "    <tr>\n",
       "      <th>16815</th>\n",
       "      <td>The Architecture of Happiness About the Author...</td>\n",
       "      <td>2</td>\n",
       "    </tr>\n",
       "    <tr>\n",
       "      <th>16816</th>\n",
       "      <td>101 Things I Learned® in Urban Design School R...</td>\n",
       "      <td>2</td>\n",
       "    </tr>\n",
       "    <tr>\n",
       "      <th>16817</th>\n",
       "      <td>Zaha Hadid (Basic Art Series 2.0) About the Au...</td>\n",
       "      <td>2</td>\n",
       "    </tr>\n",
       "    <tr>\n",
       "      <th>16818</th>\n",
       "      <td>Steal Like an Artist: 10 Things Nobody Told Yo...</td>\n",
       "      <td>2</td>\n",
       "    </tr>\n",
       "    <tr>\n",
       "      <th>16819</th>\n",
       "      <td>The Architecture of Happiness Review Clever, p...</td>\n",
       "      <td>2</td>\n",
       "    </tr>\n",
       "  </tbody>\n",
       "</table>\n",
       "<p>6256 rows × 2 columns</p>\n",
       "</div>"
      ],
      "text/plain": [
       "                                             Description  Category\n",
       "10564  Inner Engineering: A Yogi's Guide to Joy About...         2\n",
       "10565       Muslims and Missionaries in Pre-Mutiny India         2\n",
       "10566  The PCOD - Thyroid Book - Compiled From Women ...         2\n",
       "10567  The Monk Who Sold His Ferrari Review Everyone ...         2\n",
       "10568  The Secret of Secrets: The Secrets of the Gold...         2\n",
       "...                                                  ...       ...\n",
       "16815  The Architecture of Happiness About the Author...         2\n",
       "16816  101 Things I Learned® in Urban Design School R...         2\n",
       "16817  Zaha Hadid (Basic Art Series 2.0) About the Au...         2\n",
       "16818  Steal Like an Artist: 10 Things Nobody Told Yo...         2\n",
       "16819  The Architecture of Happiness Review Clever, p...         2\n",
       "\n",
       "[6256 rows x 2 columns]"
      ]
     },
     "execution_count": 11,
     "metadata": {},
     "output_type": "execute_result"
    }
   ],
   "source": [
    "data_B"
   ]
  },
  {
   "cell_type": "code",
   "execution_count": 12,
   "id": "db56149c",
   "metadata": {},
   "outputs": [
    {
     "data": {
      "text/html": [
       "<div>\n",
       "<style scoped>\n",
       "    .dataframe tbody tr th:only-of-type {\n",
       "        vertical-align: middle;\n",
       "    }\n",
       "\n",
       "    .dataframe tbody tr th {\n",
       "        vertical-align: top;\n",
       "    }\n",
       "\n",
       "    .dataframe thead th {\n",
       "        text-align: right;\n",
       "    }\n",
       "</style>\n",
       "<table border=\"1\" class=\"dataframe\">\n",
       "  <thead>\n",
       "    <tr style=\"text-align: right;\">\n",
       "      <th></th>\n",
       "      <th>Description</th>\n",
       "      <th>Category</th>\n",
       "    </tr>\n",
       "  </thead>\n",
       "  <tbody>\n",
       "    <tr>\n",
       "      <th>16820</th>\n",
       "      <td>Woopower 36M Pink for 024M Baby Trouser Top Se...</td>\n",
       "      <td>3</td>\n",
       "    </tr>\n",
       "    <tr>\n",
       "      <th>16821</th>\n",
       "      <td>Amour Butterfly Design Sunglasses For Girls 6+...</td>\n",
       "      <td>3</td>\n",
       "    </tr>\n",
       "    <tr>\n",
       "      <th>16822</th>\n",
       "      <td>Vaenait Baby 024M Baby Girls Rashguard Swimwea...</td>\n",
       "      <td>3</td>\n",
       "    </tr>\n",
       "    <tr>\n",
       "      <th>16823</th>\n",
       "      <td>Kuchipoo Girl's Cotton Regular Fit T-Shirt - P...</td>\n",
       "      <td>3</td>\n",
       "    </tr>\n",
       "    <tr>\n",
       "      <th>16824</th>\n",
       "      <td>Orange and Orchid Baby Girl's A-Line Knee-Long...</td>\n",
       "      <td>3</td>\n",
       "    </tr>\n",
       "    <tr>\n",
       "      <th>...</th>\n",
       "      <td>...</td>\n",
       "      <td>...</td>\n",
       "    </tr>\n",
       "    <tr>\n",
       "      <th>22489</th>\n",
       "      <td>SDK Fashion Latest 2018 100% Cotton Plain Full...</td>\n",
       "      <td>3</td>\n",
       "    </tr>\n",
       "    <tr>\n",
       "      <th>22490</th>\n",
       "      <td>Venisa Women's Rayon Top Burgundy</td>\n",
       "      <td>3</td>\n",
       "    </tr>\n",
       "    <tr>\n",
       "      <th>22491</th>\n",
       "      <td>Jenee Ventures Fashionable Cropped Taffeta Pan...</td>\n",
       "      <td>3</td>\n",
       "    </tr>\n",
       "    <tr>\n",
       "      <th>22492</th>\n",
       "      <td>Tara Lifestyle Women's Stretchable Viscose Pal...</td>\n",
       "      <td>3</td>\n",
       "    </tr>\n",
       "    <tr>\n",
       "      <th>22493</th>\n",
       "      <td>Saundarya Palazzo Pant, Rayon Fabric, Solid Co...</td>\n",
       "      <td>3</td>\n",
       "    </tr>\n",
       "  </tbody>\n",
       "</table>\n",
       "<p>5674 rows × 2 columns</p>\n",
       "</div>"
      ],
      "text/plain": [
       "                                             Description  Category\n",
       "16820  Woopower 36M Pink for 024M Baby Trouser Top Se...         3\n",
       "16821  Amour Butterfly Design Sunglasses For Girls 6+...         3\n",
       "16822  Vaenait Baby 024M Baby Girls Rashguard Swimwea...         3\n",
       "16823  Kuchipoo Girl's Cotton Regular Fit T-Shirt - P...         3\n",
       "16824  Orange and Orchid Baby Girl's A-Line Knee-Long...         3\n",
       "...                                                  ...       ...\n",
       "22489  SDK Fashion Latest 2018 100% Cotton Plain Full...         3\n",
       "22490                  Venisa Women's Rayon Top Burgundy         3\n",
       "22491  Jenee Ventures Fashionable Cropped Taffeta Pan...         3\n",
       "22492  Tara Lifestyle Women's Stretchable Viscose Pal...         3\n",
       "22493  Saundarya Palazzo Pant, Rayon Fabric, Solid Co...         3\n",
       "\n",
       "[5674 rows x 2 columns]"
      ]
     },
     "execution_count": 12,
     "metadata": {},
     "output_type": "execute_result"
    }
   ],
   "source": [
    "data_CA"
   ]
  },
  {
   "cell_type": "markdown",
   "id": "73651758",
   "metadata": {},
   "source": [
    "###### Class frequencies"
   ]
  },
  {
   "cell_type": "code",
   "execution_count": 13,
   "id": "652d01a4",
   "metadata": {},
   "outputs": [
    {
     "data": {
      "application/vnd.plotly.v1+json": {
       "config": {
        "plotlyServerURL": "https://plot.ly"
       },
       "data": [
        {
         "hole": 0.5,
         "labels": [
          "Electronics",
          "Household",
          "Books",
          "Clothing & Accessories"
         ],
         "textinfo": "percent",
         "title": {
          "text": " "
         },
         "type": "pie",
         "values": [
          5308,
          10564,
          6256,
          5674
         ]
        }
       ],
       "layout": {
        "height": 500,
        "showlegend": true,
        "template": {
         "data": {
          "bar": [
           {
            "error_x": {
             "color": "#2a3f5f"
            },
            "error_y": {
             "color": "#2a3f5f"
            },
            "marker": {
             "line": {
              "color": "#E5ECF6",
              "width": 0.5
             },
             "pattern": {
              "fillmode": "overlay",
              "size": 10,
              "solidity": 0.2
             }
            },
            "type": "bar"
           }
          ],
          "barpolar": [
           {
            "marker": {
             "line": {
              "color": "#E5ECF6",
              "width": 0.5
             },
             "pattern": {
              "fillmode": "overlay",
              "size": 10,
              "solidity": 0.2
             }
            },
            "type": "barpolar"
           }
          ],
          "carpet": [
           {
            "aaxis": {
             "endlinecolor": "#2a3f5f",
             "gridcolor": "white",
             "linecolor": "white",
             "minorgridcolor": "white",
             "startlinecolor": "#2a3f5f"
            },
            "baxis": {
             "endlinecolor": "#2a3f5f",
             "gridcolor": "white",
             "linecolor": "white",
             "minorgridcolor": "white",
             "startlinecolor": "#2a3f5f"
            },
            "type": "carpet"
           }
          ],
          "choropleth": [
           {
            "colorbar": {
             "outlinewidth": 0,
             "ticks": ""
            },
            "type": "choropleth"
           }
          ],
          "contour": [
           {
            "colorbar": {
             "outlinewidth": 0,
             "ticks": ""
            },
            "colorscale": [
             [
              0,
              "#0d0887"
             ],
             [
              0.1111111111111111,
              "#46039f"
             ],
             [
              0.2222222222222222,
              "#7201a8"
             ],
             [
              0.3333333333333333,
              "#9c179e"
             ],
             [
              0.4444444444444444,
              "#bd3786"
             ],
             [
              0.5555555555555556,
              "#d8576b"
             ],
             [
              0.6666666666666666,
              "#ed7953"
             ],
             [
              0.7777777777777778,
              "#fb9f3a"
             ],
             [
              0.8888888888888888,
              "#fdca26"
             ],
             [
              1,
              "#f0f921"
             ]
            ],
            "type": "contour"
           }
          ],
          "contourcarpet": [
           {
            "colorbar": {
             "outlinewidth": 0,
             "ticks": ""
            },
            "type": "contourcarpet"
           }
          ],
          "heatmap": [
           {
            "colorbar": {
             "outlinewidth": 0,
             "ticks": ""
            },
            "colorscale": [
             [
              0,
              "#0d0887"
             ],
             [
              0.1111111111111111,
              "#46039f"
             ],
             [
              0.2222222222222222,
              "#7201a8"
             ],
             [
              0.3333333333333333,
              "#9c179e"
             ],
             [
              0.4444444444444444,
              "#bd3786"
             ],
             [
              0.5555555555555556,
              "#d8576b"
             ],
             [
              0.6666666666666666,
              "#ed7953"
             ],
             [
              0.7777777777777778,
              "#fb9f3a"
             ],
             [
              0.8888888888888888,
              "#fdca26"
             ],
             [
              1,
              "#f0f921"
             ]
            ],
            "type": "heatmap"
           }
          ],
          "heatmapgl": [
           {
            "colorbar": {
             "outlinewidth": 0,
             "ticks": ""
            },
            "colorscale": [
             [
              0,
              "#0d0887"
             ],
             [
              0.1111111111111111,
              "#46039f"
             ],
             [
              0.2222222222222222,
              "#7201a8"
             ],
             [
              0.3333333333333333,
              "#9c179e"
             ],
             [
              0.4444444444444444,
              "#bd3786"
             ],
             [
              0.5555555555555556,
              "#d8576b"
             ],
             [
              0.6666666666666666,
              "#ed7953"
             ],
             [
              0.7777777777777778,
              "#fb9f3a"
             ],
             [
              0.8888888888888888,
              "#fdca26"
             ],
             [
              1,
              "#f0f921"
             ]
            ],
            "type": "heatmapgl"
           }
          ],
          "histogram": [
           {
            "marker": {
             "pattern": {
              "fillmode": "overlay",
              "size": 10,
              "solidity": 0.2
             }
            },
            "type": "histogram"
           }
          ],
          "histogram2d": [
           {
            "colorbar": {
             "outlinewidth": 0,
             "ticks": ""
            },
            "colorscale": [
             [
              0,
              "#0d0887"
             ],
             [
              0.1111111111111111,
              "#46039f"
             ],
             [
              0.2222222222222222,
              "#7201a8"
             ],
             [
              0.3333333333333333,
              "#9c179e"
             ],
             [
              0.4444444444444444,
              "#bd3786"
             ],
             [
              0.5555555555555556,
              "#d8576b"
             ],
             [
              0.6666666666666666,
              "#ed7953"
             ],
             [
              0.7777777777777778,
              "#fb9f3a"
             ],
             [
              0.8888888888888888,
              "#fdca26"
             ],
             [
              1,
              "#f0f921"
             ]
            ],
            "type": "histogram2d"
           }
          ],
          "histogram2dcontour": [
           {
            "colorbar": {
             "outlinewidth": 0,
             "ticks": ""
            },
            "colorscale": [
             [
              0,
              "#0d0887"
             ],
             [
              0.1111111111111111,
              "#46039f"
             ],
             [
              0.2222222222222222,
              "#7201a8"
             ],
             [
              0.3333333333333333,
              "#9c179e"
             ],
             [
              0.4444444444444444,
              "#bd3786"
             ],
             [
              0.5555555555555556,
              "#d8576b"
             ],
             [
              0.6666666666666666,
              "#ed7953"
             ],
             [
              0.7777777777777778,
              "#fb9f3a"
             ],
             [
              0.8888888888888888,
              "#fdca26"
             ],
             [
              1,
              "#f0f921"
             ]
            ],
            "type": "histogram2dcontour"
           }
          ],
          "mesh3d": [
           {
            "colorbar": {
             "outlinewidth": 0,
             "ticks": ""
            },
            "type": "mesh3d"
           }
          ],
          "parcoords": [
           {
            "line": {
             "colorbar": {
              "outlinewidth": 0,
              "ticks": ""
             }
            },
            "type": "parcoords"
           }
          ],
          "pie": [
           {
            "automargin": true,
            "type": "pie"
           }
          ],
          "scatter": [
           {
            "fillpattern": {
             "fillmode": "overlay",
             "size": 10,
             "solidity": 0.2
            },
            "type": "scatter"
           }
          ],
          "scatter3d": [
           {
            "line": {
             "colorbar": {
              "outlinewidth": 0,
              "ticks": ""
             }
            },
            "marker": {
             "colorbar": {
              "outlinewidth": 0,
              "ticks": ""
             }
            },
            "type": "scatter3d"
           }
          ],
          "scattercarpet": [
           {
            "marker": {
             "colorbar": {
              "outlinewidth": 0,
              "ticks": ""
             }
            },
            "type": "scattercarpet"
           }
          ],
          "scattergeo": [
           {
            "marker": {
             "colorbar": {
              "outlinewidth": 0,
              "ticks": ""
             }
            },
            "type": "scattergeo"
           }
          ],
          "scattergl": [
           {
            "marker": {
             "colorbar": {
              "outlinewidth": 0,
              "ticks": ""
             }
            },
            "type": "scattergl"
           }
          ],
          "scattermapbox": [
           {
            "marker": {
             "colorbar": {
              "outlinewidth": 0,
              "ticks": ""
             }
            },
            "type": "scattermapbox"
           }
          ],
          "scatterpolar": [
           {
            "marker": {
             "colorbar": {
              "outlinewidth": 0,
              "ticks": ""
             }
            },
            "type": "scatterpolar"
           }
          ],
          "scatterpolargl": [
           {
            "marker": {
             "colorbar": {
              "outlinewidth": 0,
              "ticks": ""
             }
            },
            "type": "scatterpolargl"
           }
          ],
          "scatterternary": [
           {
            "marker": {
             "colorbar": {
              "outlinewidth": 0,
              "ticks": ""
             }
            },
            "type": "scatterternary"
           }
          ],
          "surface": [
           {
            "colorbar": {
             "outlinewidth": 0,
             "ticks": ""
            },
            "colorscale": [
             [
              0,
              "#0d0887"
             ],
             [
              0.1111111111111111,
              "#46039f"
             ],
             [
              0.2222222222222222,
              "#7201a8"
             ],
             [
              0.3333333333333333,
              "#9c179e"
             ],
             [
              0.4444444444444444,
              "#bd3786"
             ],
             [
              0.5555555555555556,
              "#d8576b"
             ],
             [
              0.6666666666666666,
              "#ed7953"
             ],
             [
              0.7777777777777778,
              "#fb9f3a"
             ],
             [
              0.8888888888888888,
              "#fdca26"
             ],
             [
              1,
              "#f0f921"
             ]
            ],
            "type": "surface"
           }
          ],
          "table": [
           {
            "cells": {
             "fill": {
              "color": "#EBF0F8"
             },
             "line": {
              "color": "white"
             }
            },
            "header": {
             "fill": {
              "color": "#C8D4E3"
             },
             "line": {
              "color": "white"
             }
            },
            "type": "table"
           }
          ]
         },
         "layout": {
          "annotationdefaults": {
           "arrowcolor": "#2a3f5f",
           "arrowhead": 0,
           "arrowwidth": 1
          },
          "autotypenumbers": "strict",
          "coloraxis": {
           "colorbar": {
            "outlinewidth": 0,
            "ticks": ""
           }
          },
          "colorscale": {
           "diverging": [
            [
             0,
             "#8e0152"
            ],
            [
             0.1,
             "#c51b7d"
            ],
            [
             0.2,
             "#de77ae"
            ],
            [
             0.3,
             "#f1b6da"
            ],
            [
             0.4,
             "#fde0ef"
            ],
            [
             0.5,
             "#f7f7f7"
            ],
            [
             0.6,
             "#e6f5d0"
            ],
            [
             0.7,
             "#b8e186"
            ],
            [
             0.8,
             "#7fbc41"
            ],
            [
             0.9,
             "#4d9221"
            ],
            [
             1,
             "#276419"
            ]
           ],
           "sequential": [
            [
             0,
             "#0d0887"
            ],
            [
             0.1111111111111111,
             "#46039f"
            ],
            [
             0.2222222222222222,
             "#7201a8"
            ],
            [
             0.3333333333333333,
             "#9c179e"
            ],
            [
             0.4444444444444444,
             "#bd3786"
            ],
            [
             0.5555555555555556,
             "#d8576b"
            ],
            [
             0.6666666666666666,
             "#ed7953"
            ],
            [
             0.7777777777777778,
             "#fb9f3a"
            ],
            [
             0.8888888888888888,
             "#fdca26"
            ],
            [
             1,
             "#f0f921"
            ]
           ],
           "sequentialminus": [
            [
             0,
             "#0d0887"
            ],
            [
             0.1111111111111111,
             "#46039f"
            ],
            [
             0.2222222222222222,
             "#7201a8"
            ],
            [
             0.3333333333333333,
             "#9c179e"
            ],
            [
             0.4444444444444444,
             "#bd3786"
            ],
            [
             0.5555555555555556,
             "#d8576b"
            ],
            [
             0.6666666666666666,
             "#ed7953"
            ],
            [
             0.7777777777777778,
             "#fb9f3a"
            ],
            [
             0.8888888888888888,
             "#fdca26"
            ],
            [
             1,
             "#f0f921"
            ]
           ]
          },
          "colorway": [
           "#636efa",
           "#EF553B",
           "#00cc96",
           "#ab63fa",
           "#FFA15A",
           "#19d3f3",
           "#FF6692",
           "#B6E880",
           "#FF97FF",
           "#FECB52"
          ],
          "font": {
           "color": "#2a3f5f"
          },
          "geo": {
           "bgcolor": "white",
           "lakecolor": "white",
           "landcolor": "#E5ECF6",
           "showlakes": true,
           "showland": true,
           "subunitcolor": "white"
          },
          "hoverlabel": {
           "align": "left"
          },
          "hovermode": "closest",
          "mapbox": {
           "style": "light"
          },
          "paper_bgcolor": "white",
          "plot_bgcolor": "#E5ECF6",
          "polar": {
           "angularaxis": {
            "gridcolor": "white",
            "linecolor": "white",
            "ticks": ""
           },
           "bgcolor": "#E5ECF6",
           "radialaxis": {
            "gridcolor": "white",
            "linecolor": "white",
            "ticks": ""
           }
          },
          "scene": {
           "xaxis": {
            "backgroundcolor": "#E5ECF6",
            "gridcolor": "white",
            "gridwidth": 2,
            "linecolor": "white",
            "showbackground": true,
            "ticks": "",
            "zerolinecolor": "white"
           },
           "yaxis": {
            "backgroundcolor": "#E5ECF6",
            "gridcolor": "white",
            "gridwidth": 2,
            "linecolor": "white",
            "showbackground": true,
            "ticks": "",
            "zerolinecolor": "white"
           },
           "zaxis": {
            "backgroundcolor": "#E5ECF6",
            "gridcolor": "white",
            "gridwidth": 2,
            "linecolor": "white",
            "showbackground": true,
            "ticks": "",
            "zerolinecolor": "white"
           }
          },
          "shapedefaults": {
           "line": {
            "color": "#2a3f5f"
           }
          },
          "ternary": {
           "aaxis": {
            "gridcolor": "white",
            "linecolor": "white",
            "ticks": ""
           },
           "baxis": {
            "gridcolor": "white",
            "linecolor": "white",
            "ticks": ""
           },
           "bgcolor": "#E5ECF6",
           "caxis": {
            "gridcolor": "white",
            "linecolor": "white",
            "ticks": ""
           }
          },
          "title": {
           "x": 0.05
          },
          "xaxis": {
           "automargin": true,
           "gridcolor": "white",
           "linecolor": "white",
           "ticks": "",
           "title": {
            "standoff": 15
           },
           "zerolinecolor": "white",
           "zerolinewidth": 2
          },
          "yaxis": {
           "automargin": true,
           "gridcolor": "white",
           "linecolor": "white",
           "ticks": "",
           "title": {
            "standoff": 15
           },
           "zerolinecolor": "white",
           "zerolinewidth": 2
          }
         }
        },
        "title": {
         "text": "Comparison of class frequencies",
         "x": 0.5,
         "y": 0.95
        },
        "width": 800
       }
      },
      "text/html": [
       "<div>                            <div id=\"76fcd688-cd37-486b-b02a-cb1430598b4e\" class=\"plotly-graph-div\" style=\"height:500px; width:800px;\"></div>            <script type=\"text/javascript\">                require([\"plotly\"], function(Plotly) {                    window.PLOTLYENV=window.PLOTLYENV || {};                                    if (document.getElementById(\"76fcd688-cd37-486b-b02a-cb1430598b4e\")) {                    Plotly.newPlot(                        \"76fcd688-cd37-486b-b02a-cb1430598b4e\",                        [{\"hole\":0.5,\"labels\":[\"Electronics\",\"Household\",\"Books\",\"Clothing & Accessories\"],\"textinfo\":\"percent\",\"title\":{\"text\":\" \"},\"values\":[5308,10564,6256,5674],\"type\":\"pie\"}],                        {\"template\":{\"data\":{\"histogram2dcontour\":[{\"type\":\"histogram2dcontour\",\"colorbar\":{\"outlinewidth\":0,\"ticks\":\"\"},\"colorscale\":[[0.0,\"#0d0887\"],[0.1111111111111111,\"#46039f\"],[0.2222222222222222,\"#7201a8\"],[0.3333333333333333,\"#9c179e\"],[0.4444444444444444,\"#bd3786\"],[0.5555555555555556,\"#d8576b\"],[0.6666666666666666,\"#ed7953\"],[0.7777777777777778,\"#fb9f3a\"],[0.8888888888888888,\"#fdca26\"],[1.0,\"#f0f921\"]]}],\"choropleth\":[{\"type\":\"choropleth\",\"colorbar\":{\"outlinewidth\":0,\"ticks\":\"\"}}],\"histogram2d\":[{\"type\":\"histogram2d\",\"colorbar\":{\"outlinewidth\":0,\"ticks\":\"\"},\"colorscale\":[[0.0,\"#0d0887\"],[0.1111111111111111,\"#46039f\"],[0.2222222222222222,\"#7201a8\"],[0.3333333333333333,\"#9c179e\"],[0.4444444444444444,\"#bd3786\"],[0.5555555555555556,\"#d8576b\"],[0.6666666666666666,\"#ed7953\"],[0.7777777777777778,\"#fb9f3a\"],[0.8888888888888888,\"#fdca26\"],[1.0,\"#f0f921\"]]}],\"heatmap\":[{\"type\":\"heatmap\",\"colorbar\":{\"outlinewidth\":0,\"ticks\":\"\"},\"colorscale\":[[0.0,\"#0d0887\"],[0.1111111111111111,\"#46039f\"],[0.2222222222222222,\"#7201a8\"],[0.3333333333333333,\"#9c179e\"],[0.4444444444444444,\"#bd3786\"],[0.5555555555555556,\"#d8576b\"],[0.6666666666666666,\"#ed7953\"],[0.7777777777777778,\"#fb9f3a\"],[0.8888888888888888,\"#fdca26\"],[1.0,\"#f0f921\"]]}],\"heatmapgl\":[{\"type\":\"heatmapgl\",\"colorbar\":{\"outlinewidth\":0,\"ticks\":\"\"},\"colorscale\":[[0.0,\"#0d0887\"],[0.1111111111111111,\"#46039f\"],[0.2222222222222222,\"#7201a8\"],[0.3333333333333333,\"#9c179e\"],[0.4444444444444444,\"#bd3786\"],[0.5555555555555556,\"#d8576b\"],[0.6666666666666666,\"#ed7953\"],[0.7777777777777778,\"#fb9f3a\"],[0.8888888888888888,\"#fdca26\"],[1.0,\"#f0f921\"]]}],\"contourcarpet\":[{\"type\":\"contourcarpet\",\"colorbar\":{\"outlinewidth\":0,\"ticks\":\"\"}}],\"contour\":[{\"type\":\"contour\",\"colorbar\":{\"outlinewidth\":0,\"ticks\":\"\"},\"colorscale\":[[0.0,\"#0d0887\"],[0.1111111111111111,\"#46039f\"],[0.2222222222222222,\"#7201a8\"],[0.3333333333333333,\"#9c179e\"],[0.4444444444444444,\"#bd3786\"],[0.5555555555555556,\"#d8576b\"],[0.6666666666666666,\"#ed7953\"],[0.7777777777777778,\"#fb9f3a\"],[0.8888888888888888,\"#fdca26\"],[1.0,\"#f0f921\"]]}],\"surface\":[{\"type\":\"surface\",\"colorbar\":{\"outlinewidth\":0,\"ticks\":\"\"},\"colorscale\":[[0.0,\"#0d0887\"],[0.1111111111111111,\"#46039f\"],[0.2222222222222222,\"#7201a8\"],[0.3333333333333333,\"#9c179e\"],[0.4444444444444444,\"#bd3786\"],[0.5555555555555556,\"#d8576b\"],[0.6666666666666666,\"#ed7953\"],[0.7777777777777778,\"#fb9f3a\"],[0.8888888888888888,\"#fdca26\"],[1.0,\"#f0f921\"]]}],\"mesh3d\":[{\"type\":\"mesh3d\",\"colorbar\":{\"outlinewidth\":0,\"ticks\":\"\"}}],\"scatter\":[{\"fillpattern\":{\"fillmode\":\"overlay\",\"size\":10,\"solidity\":0.2},\"type\":\"scatter\"}],\"parcoords\":[{\"type\":\"parcoords\",\"line\":{\"colorbar\":{\"outlinewidth\":0,\"ticks\":\"\"}}}],\"scatterpolargl\":[{\"type\":\"scatterpolargl\",\"marker\":{\"colorbar\":{\"outlinewidth\":0,\"ticks\":\"\"}}}],\"bar\":[{\"error_x\":{\"color\":\"#2a3f5f\"},\"error_y\":{\"color\":\"#2a3f5f\"},\"marker\":{\"line\":{\"color\":\"#E5ECF6\",\"width\":0.5},\"pattern\":{\"fillmode\":\"overlay\",\"size\":10,\"solidity\":0.2}},\"type\":\"bar\"}],\"scattergeo\":[{\"type\":\"scattergeo\",\"marker\":{\"colorbar\":{\"outlinewidth\":0,\"ticks\":\"\"}}}],\"scatterpolar\":[{\"type\":\"scatterpolar\",\"marker\":{\"colorbar\":{\"outlinewidth\":0,\"ticks\":\"\"}}}],\"histogram\":[{\"marker\":{\"pattern\":{\"fillmode\":\"overlay\",\"size\":10,\"solidity\":0.2}},\"type\":\"histogram\"}],\"scattergl\":[{\"type\":\"scattergl\",\"marker\":{\"colorbar\":{\"outlinewidth\":0,\"ticks\":\"\"}}}],\"scatter3d\":[{\"type\":\"scatter3d\",\"line\":{\"colorbar\":{\"outlinewidth\":0,\"ticks\":\"\"}},\"marker\":{\"colorbar\":{\"outlinewidth\":0,\"ticks\":\"\"}}}],\"scattermapbox\":[{\"type\":\"scattermapbox\",\"marker\":{\"colorbar\":{\"outlinewidth\":0,\"ticks\":\"\"}}}],\"scatterternary\":[{\"type\":\"scatterternary\",\"marker\":{\"colorbar\":{\"outlinewidth\":0,\"ticks\":\"\"}}}],\"scattercarpet\":[{\"type\":\"scattercarpet\",\"marker\":{\"colorbar\":{\"outlinewidth\":0,\"ticks\":\"\"}}}],\"carpet\":[{\"aaxis\":{\"endlinecolor\":\"#2a3f5f\",\"gridcolor\":\"white\",\"linecolor\":\"white\",\"minorgridcolor\":\"white\",\"startlinecolor\":\"#2a3f5f\"},\"baxis\":{\"endlinecolor\":\"#2a3f5f\",\"gridcolor\":\"white\",\"linecolor\":\"white\",\"minorgridcolor\":\"white\",\"startlinecolor\":\"#2a3f5f\"},\"type\":\"carpet\"}],\"table\":[{\"cells\":{\"fill\":{\"color\":\"#EBF0F8\"},\"line\":{\"color\":\"white\"}},\"header\":{\"fill\":{\"color\":\"#C8D4E3\"},\"line\":{\"color\":\"white\"}},\"type\":\"table\"}],\"barpolar\":[{\"marker\":{\"line\":{\"color\":\"#E5ECF6\",\"width\":0.5},\"pattern\":{\"fillmode\":\"overlay\",\"size\":10,\"solidity\":0.2}},\"type\":\"barpolar\"}],\"pie\":[{\"automargin\":true,\"type\":\"pie\"}]},\"layout\":{\"autotypenumbers\":\"strict\",\"colorway\":[\"#636efa\",\"#EF553B\",\"#00cc96\",\"#ab63fa\",\"#FFA15A\",\"#19d3f3\",\"#FF6692\",\"#B6E880\",\"#FF97FF\",\"#FECB52\"],\"font\":{\"color\":\"#2a3f5f\"},\"hovermode\":\"closest\",\"hoverlabel\":{\"align\":\"left\"},\"paper_bgcolor\":\"white\",\"plot_bgcolor\":\"#E5ECF6\",\"polar\":{\"bgcolor\":\"#E5ECF6\",\"angularaxis\":{\"gridcolor\":\"white\",\"linecolor\":\"white\",\"ticks\":\"\"},\"radialaxis\":{\"gridcolor\":\"white\",\"linecolor\":\"white\",\"ticks\":\"\"}},\"ternary\":{\"bgcolor\":\"#E5ECF6\",\"aaxis\":{\"gridcolor\":\"white\",\"linecolor\":\"white\",\"ticks\":\"\"},\"baxis\":{\"gridcolor\":\"white\",\"linecolor\":\"white\",\"ticks\":\"\"},\"caxis\":{\"gridcolor\":\"white\",\"linecolor\":\"white\",\"ticks\":\"\"}},\"coloraxis\":{\"colorbar\":{\"outlinewidth\":0,\"ticks\":\"\"}},\"colorscale\":{\"sequential\":[[0.0,\"#0d0887\"],[0.1111111111111111,\"#46039f\"],[0.2222222222222222,\"#7201a8\"],[0.3333333333333333,\"#9c179e\"],[0.4444444444444444,\"#bd3786\"],[0.5555555555555556,\"#d8576b\"],[0.6666666666666666,\"#ed7953\"],[0.7777777777777778,\"#fb9f3a\"],[0.8888888888888888,\"#fdca26\"],[1.0,\"#f0f921\"]],\"sequentialminus\":[[0.0,\"#0d0887\"],[0.1111111111111111,\"#46039f\"],[0.2222222222222222,\"#7201a8\"],[0.3333333333333333,\"#9c179e\"],[0.4444444444444444,\"#bd3786\"],[0.5555555555555556,\"#d8576b\"],[0.6666666666666666,\"#ed7953\"],[0.7777777777777778,\"#fb9f3a\"],[0.8888888888888888,\"#fdca26\"],[1.0,\"#f0f921\"]],\"diverging\":[[0,\"#8e0152\"],[0.1,\"#c51b7d\"],[0.2,\"#de77ae\"],[0.3,\"#f1b6da\"],[0.4,\"#fde0ef\"],[0.5,\"#f7f7f7\"],[0.6,\"#e6f5d0\"],[0.7,\"#b8e186\"],[0.8,\"#7fbc41\"],[0.9,\"#4d9221\"],[1,\"#276419\"]]},\"xaxis\":{\"gridcolor\":\"white\",\"linecolor\":\"white\",\"ticks\":\"\",\"title\":{\"standoff\":15},\"zerolinecolor\":\"white\",\"automargin\":true,\"zerolinewidth\":2},\"yaxis\":{\"gridcolor\":\"white\",\"linecolor\":\"white\",\"ticks\":\"\",\"title\":{\"standoff\":15},\"zerolinecolor\":\"white\",\"automargin\":true,\"zerolinewidth\":2},\"scene\":{\"xaxis\":{\"backgroundcolor\":\"#E5ECF6\",\"gridcolor\":\"white\",\"linecolor\":\"white\",\"showbackground\":true,\"ticks\":\"\",\"zerolinecolor\":\"white\",\"gridwidth\":2},\"yaxis\":{\"backgroundcolor\":\"#E5ECF6\",\"gridcolor\":\"white\",\"linecolor\":\"white\",\"showbackground\":true,\"ticks\":\"\",\"zerolinecolor\":\"white\",\"gridwidth\":2},\"zaxis\":{\"backgroundcolor\":\"#E5ECF6\",\"gridcolor\":\"white\",\"linecolor\":\"white\",\"showbackground\":true,\"ticks\":\"\",\"zerolinecolor\":\"white\",\"gridwidth\":2}},\"shapedefaults\":{\"line\":{\"color\":\"#2a3f5f\"}},\"annotationdefaults\":{\"arrowcolor\":\"#2a3f5f\",\"arrowhead\":0,\"arrowwidth\":1},\"geo\":{\"bgcolor\":\"white\",\"landcolor\":\"#E5ECF6\",\"subunitcolor\":\"white\",\"showland\":true,\"showlakes\":true,\"lakecolor\":\"white\"},\"title\":{\"x\":0.05},\"mapbox\":{\"style\":\"light\"}}},\"title\":{\"text\":\"Comparison of class frequencies\",\"x\":0.5,\"y\":0.95},\"height\":500,\"width\":800,\"showlegend\":true},                        {\"responsive\": true}                    ).then(function(){\n",
       "                            \n",
       "var gd = document.getElementById('76fcd688-cd37-486b-b02a-cb1430598b4e');\n",
       "var x = new MutationObserver(function (mutations, observer) {{\n",
       "        var display = window.getComputedStyle(gd).display;\n",
       "        if (!display || display === 'none') {{\n",
       "            console.log([gd, 'removed!']);\n",
       "            Plotly.purge(gd);\n",
       "            observer.disconnect();\n",
       "        }}\n",
       "}});\n",
       "\n",
       "// Listen for the removal of the full notebook cells\n",
       "var notebookContainer = gd.closest('#notebook-container');\n",
       "if (notebookContainer) {{\n",
       "    x.observe(notebookContainer, {childList: true});\n",
       "}}\n",
       "\n",
       "// Listen for the clearing of the current output cell\n",
       "var outputEl = gd.closest('.output');\n",
       "if (outputEl) {{\n",
       "    x.observe(outputEl, {childList: true});\n",
       "}}\n",
       "\n",
       "                        })                };                });            </script>        </div>"
      ]
     },
     "metadata": {},
     "output_type": "display_data"
    }
   ],
   "source": [
    "# Visualization of class frequencies\n",
    "values = np.array([len(data_E), len(data_H), len(data_B), len(data_CA)])\n",
    "Categories = ['Electronics', 'Household', 'Books', 'Clothing & Accessories']\n",
    "fig = go.Figure(data = [go.Pie(values = values, labels = Categories, hole = 0.5, textinfo = 'percent', \n",
    "                               title = \" \")])\n",
    "text_title = \"Comparison of class frequencies\"\n",
    "fig.update_layout(height = 500, width = 800, showlegend = True, title = dict(text = text_title, x = 0.5, y = 0.95)) \n",
    "fig.show()"
   ]
  },
  {
   "cell_type": "markdown",
   "id": "25c9847d",
   "metadata": {},
   "source": [
    "###### Number of words"
   ]
  },
  {
   "cell_type": "code",
   "execution_count": 14,
   "id": "d98f0a45",
   "metadata": {},
   "outputs": [
    {
     "data": {
      "image/png": "[encoded data removed]",
      "text/plain": [
       "<Figure size 1000x840 with 4 Axes>"
      ]
     },
     "metadata": {},
     "output_type": "display_data"
    }
   ],
   "source": [
    "# Distribution of number of words in description\n",
    "dataE_word = data_E['Description'].str.split().map(lambda x: len(x))\n",
    "dataH_word = data_H['Description'].str.split().map(lambda x: len(x))\n",
    "dataB_word = data_B['Description'].str.split().map(lambda x: len(x))\n",
    "dataCA_word = data_CA['Description'].str.split().map(lambda x: len(x))\n",
    "\n",
    "fig, ax = plt.subplots(2, 2, figsize = (10, 8.4), sharey = False)\n",
    "sns.histplot(x = dataE_word, bins = 20, ax = ax[0, 0]).set_title('Class: Electronics')\n",
    "sns.histplot(x = dataH_word, bins = 20, ax = ax[0, 1]).set_title('Class: Household')\n",
    "sns.histplot(x = dataB_word, bins = 20, ax = ax[1, 0]).set_title('Class: Books')\n",
    "sns.histplot(x = dataCA_word, bins = 20, ax = ax[1, 1]).set_title('Class: Clothing & Accessories')\n",
    "\n",
    "fig.suptitle(\"Distribution of number of words in description\")\n",
    "for i in range(4):\n",
    "    ax[i // 2, i % 2].set_xlabel(\" \") if i // 2 == 0 else ax[i // 2, i % 2].set_xlabel(\"Number of words\")\n",
    "    if i % 2 != 0: ax[i // 2, i % 2].set_ylabel(\" \")"
   ]
  },
  {
   "cell_type": "code",
   "execution_count": 15,
   "id": "25f2026e",
   "metadata": {},
   "outputs": [
    {
     "data": {
      "image/png": "[encoded data removed]",
      "text/plain": [
       "<Figure size 1000x840 with 4 Axes>"
      ]
     },
     "metadata": {},
     "output_type": "display_data"
    }
   ],
   "source": [
    "# Distribution of average word-length in description\n",
    "dataE_avg = data_E['Description'].str.split().apply(lambda x : [len(i) for i in x]).map(lambda x: np.mean(x))\n",
    "dataH_avg = data_H['Description'].str.split().apply(lambda x : [len(i) for i in x]).map(lambda x: np.mean(x))\n",
    "dataB_avg = data_B['Description'].str.split().apply(lambda x : [len(i) for i in x]).map(lambda x: np.mean(x))\n",
    "dataCA_avg = data_CA['Description'].str.split().apply(lambda x : [len(i) for i in x]).map(lambda x: np.mean(x))\n",
    "\n",
    "fig, ax = plt.subplots(2, 2, figsize = (10, 8.4), sharey = False)\n",
    "sns.histplot(x = dataE_avg, bins = 20, ax = ax[0, 0]).set_title('Class: Electronics')\n",
    "sns.histplot(x = dataH_avg, bins = 20, ax = ax[0, 1]).set_title('Class: Household')\n",
    "sns.histplot(x = dataB_avg, bins = 20, ax = ax[1, 0]).set_title('Class: Books')\n",
    "sns.histplot(x = dataCA_avg, bins = 20, ax = ax[1, 1]).set_title('Class: Clothing & Accessories')\n",
    "\n",
    "fig.suptitle(\"Distribution of average word-length in description\")\n",
    "for i in range(4):\n",
    "    ax[i // 2, i % 2].set_xlabel(\" \") if i // 2 == 0 else ax[i // 2, i % 2].set_xlabel(\"Average word-length\")\n",
    "    if i % 2 != 0: ax[i // 2, i % 2].set_ylabel(\" \")"
   ]
  },
  {
   "cell_type": "markdown",
   "id": "f15a5a30",
   "metadata": {},
   "source": [
    "### Text normalization"
   ]
  },
  {
   "cell_type": "code",
   "execution_count": 16,
   "id": "bc5128aa",
   "metadata": {},
   "outputs": [],
   "source": [
    "# RegexpTokenizer\n",
    "regexp = RegexpTokenizer(\"[\\w']+\")"
   ]
  },
  {
   "cell_type": "markdown",
   "id": "a20f923e",
   "metadata": {},
   "source": [
    "###### Convertion to lowercase"
   ]
  },
  {
   "cell_type": "code",
   "execution_count": 17,
   "id": "b7739a10",
   "metadata": {},
   "outputs": [],
   "source": [
    "def convert_to_lowercase(text):\n",
    "    return text.lower()"
   ]
  },
  {
   "cell_type": "markdown",
   "id": "ffb337a5",
   "metadata": {},
   "source": [
    "###### Removal of Whitespaces"
   ]
  },
  {
   "cell_type": "code",
   "execution_count": 18,
   "id": "b786623d",
   "metadata": {},
   "outputs": [],
   "source": [
    "def remove_whitespace(text):\n",
    "    return text.strip()"
   ]
  },
  {
   "cell_type": "markdown",
   "id": "d200b2d7",
   "metadata": {},
   "source": [
    "###### Removal of punctuations"
   ]
  },
  {
   "cell_type": "code",
   "execution_count": 19,
   "id": "08a4dcb3",
   "metadata": {},
   "outputs": [],
   "source": [
    "def remove_punctuation(text):\n",
    "    punct_str = string.punctuation\n",
    "    # discarding apostrophe from the string to keep the contractions intact\n",
    "    punct_str = punct_str.replace(\"'\", \"\") \n",
    "    return text.translate(str.maketrans(\"\", \"\", punct_str))"
   ]
  },
  {
   "cell_type": "markdown",
   "id": "ad17936a",
   "metadata": {},
   "source": [
    "###### Removal of Unicode Characters"
   ]
  },
  {
   "cell_type": "code",
   "execution_count": 20,
   "id": "5e2c874e",
   "metadata": {},
   "outputs": [],
   "source": [
    "# Removing HTML tags\n",
    "def remove_html(text):\n",
    "    html = re.compile(r'<.*?>')\n",
    "    return html.sub(r'', text)"
   ]
  },
  {
   "cell_type": "code",
   "execution_count": 21,
   "id": "54850a54",
   "metadata": {},
   "outputs": [],
   "source": [
    "# Removing emojis\n",
    "def remove_emoji(text):\n",
    "    emoji_pattern = re.compile(\"[\"\n",
    "                               # emoticons\n",
    "                           u\"\\U0001F600-\\U0001F64F\"\n",
    "                               # symbols & pictographs\n",
    "                           u\"\\U0001F300-\\U0001F5FF\"  \n",
    "                               # transport & map symbols\n",
    "                           u\"\\U0001F680-\\U0001F6FF\" \n",
    "                               # flags (iOS)\n",
    "                           u\"\\U0001F1E0-\\U0001F1FF\"  \n",
    "                           u\"\\U00002702-\\U000027B0\"\n",
    "                           u\"\\U000024C2-\\U0001F251\"\n",
    "                           \"]+\", flags = re.UNICODE)\n",
    "    return emoji_pattern.sub(r'', text)"
   ]
  },
  {
   "cell_type": "code",
   "execution_count": 22,
   "id": "e593a323",
   "metadata": {},
   "outputs": [],
   "source": [
    "# Removing other unicode characters\n",
    "def remove_http(text):\n",
    "    # matching strings beginning with http (but not just \"http\")\n",
    "    http = \"https?://\\S+|www\\.\\S+\"\n",
    "    # creating pattern\n",
    "    pattern = r\"({})\".format(http) \n",
    "    return re.sub(pattern, \"\", text)"
   ]
  },
  {
   "cell_type": "markdown",
   "id": "c74537f9",
   "metadata": {},
   "source": [
    "###### Substitution of Acronyms"
   ]
  },
  {
   "cell_type": "code",
   "execution_count": 23,
   "id": "92cadaa6",
   "metadata": {},
   "outputs": [],
   "source": [
    "# Dictionary of acronyms\n",
    "acronyms_dict = {\"121\": \"one to one\",\"aka\": \"also known as\",\"asap\": \"as soon as possible\",\"a/s/l\": \"age, sex, location\",\n",
    "\"adn\": \"any day now\",\"afaik\": \"as far as I know\",\"afk\": \"away from keyboard\",\"aight\": \"alright\",\n",
    "\"alol\": \"actually laughing out loud\",\"b4\": \"before\",\"b4n\": \"bye for now\",\"bak\": \"back at the keyboard\",\"bf\": \"boyfriend\",\n",
    "\"bff\": \"best friends forever\",\"bfn\": \"bye for now\",\"bg\": \"big grin\",\"bta\": \"but then again\",\"brb\": \"be right back\",\n",
    "\"btw\": \"by the way\",\"cid\": \"crying in disgrace\",\"cnp\": \"continued in my next post\",\"cp\": \"chat post\",\"cu\": \"see you\",\n",
    "\"cul\": \"see you later\",\"cul8r\": \"see you later\",\"cya\": \"bye\",\"cyo\": \"see you online\",\"dbau\": \"doing business as usual\",\n",
    "\"dob\": \"date of birth\",\"faq\": \"frequently asked questions\",\"fyi\": \"for your information\",\"fud\": \"fear, uncertainty, and doubt\",\n",
    "\"fwiw\": \"for what it's worth\",\"g\": \"grin\",\"g2g\": \"got to go\",\"ga\": \"go ahead\",\"gal\": \"get a life\",\"gf\": \"girlfriend\",\n",
    "\"gfn\": \"gone for now\",\"gmbo\": \"giggling my butt off\",\"gmta\": \"great minds think alike\",\"h8\": \"hate\",\"hagn\": \"have a good night\",\n",
    "\"hdop\": \"help delete online predators\",\"hhis\": \"hanging head in shame\",\"iac\": \"in any case\",\"ianal\": \"I am not a lawyer\",\n",
    "\"ic\": \"I see\",\"idk\": \"i don't know\",\"imao\": \"in my arrogant opinion\",\"imnsho\": \"in my not so humble opinion\",\n",
    "\"idc\": \"i don't care\",\"iirc\": \"if i recall correctly\",\"imo\": \"in my opinion\",\"irl\": \"in real life\",\"iow\": \"in other words\",\n",
    "\"ipn\": \"I’m posting naked\",\"jk\": \"just kidding\",\"l8r\": \"later\",\"ld\": \"later, dude\",\"ldr\": \"long distance relationship\",\n",
    "\"llta\": \"lots and lots of thunderous applause\",\"lmao\": \"laugh my ass off\",\"lmirl\": \"let's meet in real life\",\n",
    "\"lol\": \"laugh out loud\",\"ltr\": \"longterm relationship\",\"lulab\": \"love you like a brother\",\"lulas\": \"love you like a sister\",\n",
    "\"luv\": \"love\",\"lmk\": \"let me know\",\"lol\": \"laugh out loud\",\"m/f\": \"male or female\",\"m8\": \"mate\",\n",
    "\"milf\": \"mother I would like to fuck\",\"ngl\": \"not gonna lie\",\"noyb\": \"none of your business\",\"nvm\": \"never mind\",\n",
    "\"ofc\": \"of course\",\"oll\": \"online love\",\"omg\": \"oh my god\",\"otoh\": \"on the other hand\",\"pir\": \"parent in room\",\"ppl\": \"people\",\n",
    "\"pfa\": \"please find attached\",\"r\": \"are\",\"rofl\": \"roll on the floor laughing\",\"rpg\": \"role playing games\",\"ru\": \"are you\",\n",
    "\"shid\": \"slaps head in disgust\",\"somy\": \"sick of me yet\",\"sot\": \"short of time\",\"thanx\": \"thanks\",\"thx\": \"thanks\",\n",
    "\"ttyl\": \"talk to you later\",\"u\": \"you\",\"ur\": \"you are\",\"uw\": \"you’re welcome\",\"stfu\": \"shut the fuck up\",\n",
    "\"tba\": \"to be announced\",\"tbc\": \"to be continued\",\"tbd\": \"to be determined\",\"tbh\": \"to be honest\",\"ttyl\": \"talk to you later\",\n",
    "\"wtf\": \"what the fuck\",\"wth\": \"what the heck\",\"wb\": \"welcome back\",\"wfm\": \"works for me\",\"wibni\": \"wouldn't it be nice if\",\n",
    "\"wtf\": \"what the fuck\",\"wtg\": \"way to go\",\"wtgp\": \"want to go private\",\"ym\": \"young man\",\"gr8\": \"great\"}"
   ]
  },
  {
   "cell_type": "code",
   "execution_count": 24,
   "id": "a01628fe",
   "metadata": {},
   "outputs": [],
   "source": [
    "# List of acronyms\n",
    "acronyms_list = list(acronyms_dict.keys())"
   ]
  },
  {
   "cell_type": "code",
   "execution_count": 25,
   "id": "6b392aff",
   "metadata": {},
   "outputs": [],
   "source": [
    "# Function to convert contractions in a text\n",
    "def convert_acronyms(text):\n",
    "    words = []\n",
    "    for word in regexp.tokenize(text):\n",
    "        if word in acronyms_list:\n",
    "            words = words + acronyms_dict[word].split()\n",
    "        else:\n",
    "            words = words + word.split()\n",
    "    \n",
    "    text_converted = \" \".join(words)\n",
    "    return text_converted"
   ]
  },
  {
   "cell_type": "markdown",
   "id": "c847b225",
   "metadata": {},
   "source": [
    "###### Substitution of Contractions"
   ]
  },
  {
   "cell_type": "code",
   "execution_count": 26,
   "id": "849077ee",
   "metadata": {},
   "outputs": [],
   "source": [
    "contractions_dict = {\"'aight\": \"alright\",\"ain't\": \"are not\",\"amn't\": \"am not\",\"arencha\": \"are not you\",\"aren't\": \"are not\",\n",
    "\"'bout\": \"about\",\"can't\": \"cannot\",\"cap'n\": \"captain\",\"'cause\": \"because\",\"'cept\": \"except\",\"could've\": \"could have\",\n",
    "\"couldn't\": \"could not\",\"couldn't've\": \"could not have\",\"dammit\": \"damn it\",\"daren't\": \"dare not\",\"daresn't\": \"dare not\",\n",
    "\"dasn't\": \"dare not\",\"didn't\": \"did not\",\"doesn't\": \"does not\",\"doin'\": \"doing\",\"don't\": \"do not\",\"dunno\": \"do not know\",\n",
    "\"d'ye\": \"do you\",\"e'en\": \"even\",\"e'er\": \"ever\",\"'em\": \"them\",\"everybody's\": \"everybody is\",\"everyone's\": \"everyone is\",\n",
    "\"fo'c'sle\": \"forecastle\",\"finna\": \"fixing to\",\"'gainst\": \"against\",\"g'day\": \"good day\",\"gimme\": \"give me\",\"giv'n\": \"given\",\n",
    "\"gonna\": \"going to\",\"gon't\": \"go not\",\"gotcha\": \"got you\",\"gotta\": \"got to\",\"gtg\": \"got to go\",\"hadn't\": \"had not\",\n",
    "\"had've\": \"had have\",\"hasn't\": \"has not\",\"haven't\": \"have not\",\"he'd\": \"he had\",\"he'll\": \"he shall\",\"helluva\": \"hell of a\",\n",
    "\"he's\": \"he is\",\"here's\": \"here is\",\"he've\": \"he have\",\"how'd\": \"how would\",\"howdy\": \"how do you do\",\"how'll\": \"how will\",\n",
    "\"how're\": \"how are\",\"how's\": \"how is\",\"i'd\": \"i would\",\"i'd've\": \"i would have\",\"i'll\": \"i shall\",\"i'm\": \"i am\",\n",
    "\"imma\": \"i am about to\",\"i'm'a\": \"i am about to\",\"i'm'o\": \"i am going to\",\"innit\": \"is it not\",\"ion\": \"i do not\",\n",
    "\"i've\": \"i have\",\"i'd\": \"i had\",\"i'd've\": \"i would have\",\"i'll\": \"i shall\",\"i'm\": \"i am\",\"i'm'a\": \"i am about to\",\n",
    "\"i'm'o\": \"i am going to\",\"innit\": \"is it not\",\"i've\": \"i have\",\"isn't\": \"is not\",\"it'd\": \"it would\",\"it'll\": \"it shall\",\n",
    "\"it's\": \"it is\",\"iunno\": \"i do not know\",\"kinda\": \"kind of\",\"let's\": \"let us\",\"li'l\": \"little\",\"ma'am\": \"madam\",\n",
    "\"mayn't\": \"may not\",\"may've\": \"may have\",\"methinks\": \"me thinks\",\"mightn't\": \"might not\",\"might've\": \"might have\",\n",
    "\"mustn't\": \"must not\",\"mustn't've\": \"must not have\",\"must've\": \"must have\",\"'neath\": \"beneath\",\"needn't\": \"need not\",\n",
    "\"nal\": \"and all\",\"ne'er\": \"never\",\"o'clock\": \"of the clock\",\"o'er\": \"over\",\"ol'\": \"old\",\"oughtn't\": \"ought not\",\n",
    "\"'round\": \"around\",\"'s\": \"is\",\"shalln't\": \"shall not\",\"shan't\": \"shall not\",\"she'd\": \"she had\",\n",
    "\"she'll\": \"she shall\",\"she's\": \"she is\",\"should've\": \"should have\",\"shouldn't\": \"should not\",\"shouldn't've\": \"should not have\",\n",
    "\"somebody's\": \"somebody is\",\"someone's\": \"someone is\",\"something's\": \"something is\",\"so're\": \"so are\",\"so's\": \"so is\",\n",
    "\"so've\": \"so have\",\"that'll\": \"that shall\",\"that're\": \"that are\",\"that's\": \"that is\",\"that'd\": \"that would\",\n",
    "\"there'd\": \"there had\",\"there'll\": \"there shall\",\"there're\": \"there are\",\"there's\": \"there is\",\"these're\": \"these are\",\n",
    "\"these've\": \"these have\",\"they'd\": \"they had\",\"they'll\": \"they shall\",\"they're\": \"they are\",\"they've\": \"they have\",\n",
    "\"this's\": \"this is\",\"those're\": \"those are\",\"those've\": \"those have\",\"'thout\": \"without\",\"'til\": \"until\",\"'tis\": \"it is\",\n",
    "\"to've\": \"to have\",\"'twas\": \"it was\",\"'tween\": \"between\",\"'twhere\": \"it were\",\"wanna\": \"want to\",\"wasn't\": \"was not\",\n",
    "\"we'd\": \"we had\",\"we'd've\": \"we would have\",\"we'll\": \"we shall\",\"we're\": \"we are\",\"we've\": \"we have\",\"weren't\": \"were not\",\n",
    "\"whatcha\": \"what are you\",\"what'd\": \"what did\",\"what'll\": \"what shall\",\"what're\": \"what are\",\"what's\": \"what is\",\n",
    "\"what've\": \"what have\",\"when's\": \"when is\",\"where'd\": \"where did\",\"where'll\": \"where shall\",\"where're\": \"where are\",\n",
    "\"where's\": \"where is\",\"where've\": \"where have\",\"which'd\": \"which had\",\"which'll\": \"which shall\",\"which're\": \"which are\",\n",
    "\"which's\": \"which is\",\"which've\": \"which have\",\"who'd\": \"who would\",\"who'd've\": \"who would have\",\"who'll\": \"who shall\",\n",
    "\"who're\": \"who are\",\"who's\": \"who is\",\"who've\": \"who have\",\"why'd\": \"why did\",\"why're\": \"why are\",\"why's\": \"why is\",\n",
    "\"willn't\": \"will not\",\"won't\": \"will not\",\"wonnot\": \"will not\",\"would've\": \"would have\",\"wouldn't\": \"would not\",\n",
    "\"wouldn't've\": \"would not have\",\"y'all\": \"you all\",\"y'all'd've\": \"you all would have\",\n",
    "\"y'all'd'n't've\": \"you all would not have\",\"y'all're\": \"you all are\",\"y'all'ren't\": \"you all are not\",\"y'at\": \"you at\",\n",
    "\"yes'm\": \"yes madam\",\"yessir\": \"yes sir\",\"you'd\": \"you had\",\"you'll\": \"you shall\",\"you're\": \"you are\",\"you've\": \"you have\",\n",
    "\"aight\": \"alright\",\"aint\": \"are not\",\"amnt\": \"am not\",\"arent\": \"are not\",\"cant\": \"cannot\",\"cause\": \"because\",\n",
    "\"couldve\": \"could have\",\"couldnt\": \"could not\",\"couldntve\": \"could not have\",\"darent\": \"dare not\",\"daresnt\": \"dare not\",\n",
    "\"dasnt\": \"dare not\",\"didnt\": \"did not\",\"doesnt\": \"does not\",\"doin\": \"doing\",\"dont\": \"do not\",\"eer\": \"ever\",\n",
    "\"everybodys\": \"everybody is\",\"everyones\": \"everyone is\",\"finna\": \"fixing to\",\"gday\": \"good day\",\"givn\": \"given\",\n",
    "\"gont\": \"go not\",\"hadnt\": \"had not\",\"hadve\": \"had have\",\"hasnt\": \"has not\",\"havent\": \"have not\",\"hed\": \"he had\",\n",
    "\"hell\": \"he shall\",\"hes\": \"he is\",\"heve\": \"he have\",\"howd\": \"how did\",\"howdy\": \"how do you do\",\"howll\": \"how will\",\n",
    "\"howre\": \"how are\",\"hows\": \"how is\",\"idve\": \"i would have\",\"ill\": \"i shall\",\"im\": \"i am\",\"ima\": \"i am about to\",\n",
    "\"imo\": \"i am going to\",\"innit\": \"is it not\",\"ive\": \"i have\",\"isnt\": \"is not\",\"itd\": \"it would\",\"itll\": \"it shall\",\n",
    "\"its\": \"it is\",\"lets\": \"let us\",\"lil\": \"little\",\"maam\": \"madam\",\"maynt\": \"may not\",\"mayve\": \"may have\",\"methinks\": \"me thinks\",\n",
    "\"mightnt\": \"might not\",\"mightve\": \"might have\",\"mustnt\": \"must not\",\"mustntve\": \"must not have\",\"mustve\": \"must have\",\n",
    "\"neednt\": \"need not\",\"neer\": \"never\",\"oclock\": \"of the clock\",\"oer\": \"over\",\"ol\": \"old\",\"oughtnt\": \"ought not\",\n",
    "\"shallnt\": \"shall not\",\"shant\": \"shall not\",\"shed\": \"she had\",\"shell\": \"she shall\",\"shes\": \"she is\",\"shouldve\": \"should have\",\n",
    "\"shouldnt\": \"should not\",\"shouldntve\": \"should not have\",\"somebodys\": \"somebody is\",\"someones\": \"someone is\",\n",
    "\"somethings\": \"something is\",\"thatll\": \"that shall\",\"thatre\": \"that are\",\"thatd\": \"that would\",\"thered\": \"there had\",\n",
    "\"therell\": \"there shall\",\"therere\": \"there are\",\"theres\": \"there is\",\"thesere\": \"these are\",\"theseve\": \"these have\",\n",
    "\"theyd\": \"they had\",\"theyll\": \"they shall\",\"theyre\": \"they are\",\"theyve\": \"they have\",\"thiss\": \"this is\",\"thosere\": \"those are\",\n",
    "\"thoseve\": \"those have\",\"tis\": \"it is\",\"tove\": \"to have\",\"twas\": \"it was\",\"wanna\": \"want to\",\"wasnt\": \"was not\",\"wed\": \"we had\",\n",
    "\"wedve\": \"we would have\",\"were\": \"we are\",\"weve\": \"we have\",\"werent\": \"were not\",\"whatd\": \"what did\",\"whatll\": \"what shall\",\n",
    "\"whatre\": \"what are\",\"whats\": \"what is\",\"whatve\": \"what have\",\"whens\": \"when is\",\"whered\": \"where did\",\"wherell\": \"where shall\",\n",
    "\"wherere\": \"where are\",\"wheres\": \"where is\",\"whereve\": \"where have\",\"whichd\": \"which had\",\"whichll\": \"which shall\",\n",
    "\"whichre\": \"which are\",\"whichs\": \"which is\",\"whichve\": \"which have\",\"whod\": \"who would\",\"whodve\": \"who would have\",\n",
    "\"wholl\": \"who shall\",\"whore\": \"who are\",\"whos\": \"who is\",\"whove\": \"who have\",\"whyd\": \"why did\",\"whyre\": \"why are\",\n",
    "\"whys\": \"why is\",\"wont\": \"will not\",\"wouldve\": \"would have\",\"wouldnt\": \"would not\",\"wouldntve\": \"would not have\",\n",
    "\"yall\": \"you all\",\"yalldve\": \"you all would have\",\"yallre\": \"you all are\",\"youd\": \"you had\",\"youll\": \"you shall\",\n",
    "\"youre\": \"you are\",\"youve\": \"you have\",\"'re\": \"are\",\"that's\": \"that is\",\"thats\": \"that is\"}"
   ]
  },
  {
   "cell_type": "code",
   "execution_count": 27,
   "id": "ce46d5eb",
   "metadata": {},
   "outputs": [],
   "source": [
    "# List of contractions\n",
    "contractions_list = list(contractions_dict.keys())"
   ]
  },
  {
   "cell_type": "code",
   "execution_count": 28,
   "id": "5e01b4bd",
   "metadata": {},
   "outputs": [],
   "source": [
    "# Function to convert contractions in a text\n",
    "def convert_contractions(text):\n",
    "    words = []\n",
    "    for word in regexp.tokenize(text):\n",
    "        if word in contractions_list:\n",
    "            words = words + contractions_dict[word].split()\n",
    "        else:\n",
    "            words = words + word.split()\n",
    "    \n",
    "    text_converted = \" \".join(words)\n",
    "    return text_converted"
   ]
  },
  {
   "cell_type": "markdown",
   "id": "b4c97b63",
   "metadata": {},
   "source": [
    "###### Removal of Stop Words"
   ]
  },
  {
   "cell_type": "code",
   "execution_count": 29,
   "id": "87291398",
   "metadata": {},
   "outputs": [],
   "source": [
    "# Stopwords\n",
    "stop_words = stopwords.words(\"english\") \n",
    "\n",
    "# Function to remove stopwords from a list of texts\n",
    "def remove_stopwords(text):\n",
    "    return \" \".join([word for word in regexp.tokenize(text) if word not in stop_words])\n"
   ]
  },
  {
   "cell_type": "markdown",
   "id": "7360fc6b",
   "metadata": {},
   "source": [
    "###### Lemmatization"
   ]
  },
  {
   "cell_type": "code",
   "execution_count": 30,
   "id": "157b7982",
   "metadata": {},
   "outputs": [],
   "source": [
    "# Lemmatization\n",
    "lemmatizer = WordNetLemmatizer()\n",
    "\n",
    "def text_lemmatizer(text):\n",
    "    text_wordnet = \" \".join([lemmatizer.lemmatize(word) for word in word_tokenize(text)]) # regexp.tokenize(text)\n",
    "    return text_wordnet"
   ]
  },
  {
   "cell_type": "markdown",
   "id": "eada05f7",
   "metadata": {},
   "source": [
    "###### Discardment of Non-alphabetic Words"
   ]
  },
  {
   "cell_type": "code",
   "execution_count": 31,
   "id": "0bde35a3",
   "metadata": {},
   "outputs": [],
   "source": [
    "# Discardment of non-alphabetic words\n",
    "def discard_non_alpha(text):\n",
    "    word_list_non_alpha = [word for word in regexp.tokenize(text) if word.isalpha()]\n",
    "    text_non_alpha = \" \".join(word_list_non_alpha)\n",
    "    return text_non_alpha"
   ]
  },
  {
   "cell_type": "markdown",
   "id": "2f4afaa7",
   "metadata": {},
   "source": [
    "###### Integration of the Processes"
   ]
  },
  {
   "cell_type": "code",
   "execution_count": 32,
   "id": "419089a6",
   "metadata": {},
   "outputs": [],
   "source": [
    "def text_normalizer(text):\n",
    "    text = convert_to_lowercase(text)\n",
    "    text = remove_whitespace(text)\n",
    "    # converting text to one line\n",
    "    text = re.sub('\\n' , '', text)\n",
    "    # removing square brackets\n",
    "    text = re.sub('\\[.*?\\]', '', text) \n",
    "    text = remove_http(text)\n",
    "    text = remove_punctuation(text)\n",
    "    text = remove_html(text)\n",
    "    text = remove_emoji(text)\n",
    "    text = convert_acronyms(text)\n",
    "    text = convert_contractions(text)\n",
    "    text = remove_stopwords(text)\n",
    "    text = text_lemmatizer(text) \n",
    "    text = discard_non_alpha(text)\n",
    "    return text"
   ]
  },
  {
   "cell_type": "code",
   "execution_count": 33,
   "id": "f469d869",
   "metadata": {},
   "outputs": [
    {
     "data": {
      "text/html": [
       "<div>\n",
       "<style scoped>\n",
       "    .dataframe tbody tr th:only-of-type {\n",
       "        vertical-align: middle;\n",
       "    }\n",
       "\n",
       "    .dataframe tbody tr th {\n",
       "        vertical-align: top;\n",
       "    }\n",
       "\n",
       "    .dataframe thead th {\n",
       "        text-align: right;\n",
       "    }\n",
       "</style>\n",
       "<table border=\"1\" class=\"dataframe\">\n",
       "  <thead>\n",
       "    <tr style=\"text-align: right;\">\n",
       "      <th></th>\n",
       "      <th>Normalized_Description</th>\n",
       "      <th>Category</th>\n",
       "    </tr>\n",
       "  </thead>\n",
       "  <tbody>\n",
       "    <tr>\n",
       "      <th>0</th>\n",
       "      <td>paper plane design framed wall hanging motivat...</td>\n",
       "      <td>1</td>\n",
       "    </tr>\n",
       "    <tr>\n",
       "      <th>1</th>\n",
       "      <td>saf framed painting wood inch x inch special e...</td>\n",
       "      <td>1</td>\n",
       "    </tr>\n",
       "    <tr>\n",
       "      <th>2</th>\n",
       "      <td>saf textured modern art print framed painting ...</td>\n",
       "      <td>1</td>\n",
       "    </tr>\n",
       "    <tr>\n",
       "      <th>3</th>\n",
       "      <td>saf flower print framed painting synthetic inc...</td>\n",
       "      <td>1</td>\n",
       "    </tr>\n",
       "    <tr>\n",
       "      <th>4</th>\n",
       "      <td>incredible gift india wooden happy birthday un...</td>\n",
       "      <td>1</td>\n",
       "    </tr>\n",
       "    <tr>\n",
       "      <th>...</th>\n",
       "      <td>...</td>\n",
       "      <td>...</td>\n",
       "    </tr>\n",
       "    <tr>\n",
       "      <th>27797</th>\n",
       "      <td>micromax bharat plus zero impact visual displa...</td>\n",
       "      <td>0</td>\n",
       "    </tr>\n",
       "    <tr>\n",
       "      <th>27798</th>\n",
       "      <td>microsoft lumia black microsoft lumia experien...</td>\n",
       "      <td>0</td>\n",
       "    </tr>\n",
       "    <tr>\n",
       "      <th>27799</th>\n",
       "      <td>microsoft lumia black colourblack product desc...</td>\n",
       "      <td>0</td>\n",
       "    </tr>\n",
       "    <tr>\n",
       "      <th>27800</th>\n",
       "      <td>karbonn titanium wind white karbonn titanium w...</td>\n",
       "      <td>0</td>\n",
       "    </tr>\n",
       "    <tr>\n",
       "      <th>27801</th>\n",
       "      <td>nokia lumia dual sim grey colourgrey product d...</td>\n",
       "      <td>0</td>\n",
       "    </tr>\n",
       "  </tbody>\n",
       "</table>\n",
       "<p>27802 rows × 2 columns</p>\n",
       "</div>"
      ],
      "text/plain": [
       "                                  Normalized_Description  Category\n",
       "0      paper plane design framed wall hanging motivat...         1\n",
       "1      saf framed painting wood inch x inch special e...         1\n",
       "2      saf textured modern art print framed painting ...         1\n",
       "3      saf flower print framed painting synthetic inc...         1\n",
       "4      incredible gift india wooden happy birthday un...         1\n",
       "...                                                  ...       ...\n",
       "27797  micromax bharat plus zero impact visual displa...         0\n",
       "27798  microsoft lumia black microsoft lumia experien...         0\n",
       "27799  microsoft lumia black colourblack product desc...         0\n",
       "27800  karbonn titanium wind white karbonn titanium w...         0\n",
       "27801  nokia lumia dual sim grey colourgrey product d...         0\n",
       "\n",
       "[27802 rows x 2 columns]"
      ]
     },
     "execution_count": 33,
     "metadata": {},
     "output_type": "execute_result"
    }
   ],
   "source": [
    "# Implementing text normalization\n",
    "data_normalized = pd.DataFrame()\n",
    "data_normalized['Normalized_Description'] = data['Description'].apply(text_normalizer)\n",
    "data_normalized['Category'] = data['Category']\n",
    "data_normalized"
   ]
  },
  {
   "cell_type": "code",
   "execution_count": 34,
   "id": "84d2efc8",
   "metadata": {},
   "outputs": [
    {
     "data": {
      "text/plain": [
       "'paper plane design framed wall hanging motivational office decor art print x inch set painting made synthetic frame uv textured print give multi effect attracts towards special series painting make wall beautiful give royal touch painting ready hang would proud posse unique painting niche apart use modern efficient printing technology print ink precision epson roland hp printer innovative hd printing technique result durable spectacular looking print highest last lifetime print solely topnotch ink achieve brilliant true colour due high level uv resistance print retain beautiful colour many year add colour style living space digitally printed painting pleasure eternal blissso bring home elegant print lushed rich color make nothing sheer elegance friend familyit would treasured forever whoever lucky recipient liven place intriguing painting high definition hd graphic digital print home office room'"
      ]
     },
     "execution_count": 34,
     "metadata": {},
     "output_type": "execute_result"
    }
   ],
   "source": [
    "# Example of Description column\n",
    "data_normalized['Normalized_Description'].iloc[0]"
   ]
  },
  {
   "cell_type": "code",
   "execution_count": 35,
   "id": "a300e9d1",
   "metadata": {},
   "outputs": [],
   "source": [
    "# Saving the dataframe\n",
    "data_normalized.to_csv('C:/Users/manal/OneDrive/Desktop/MBDIO/S2/Text_Mining/Projet/E-commerce_Dataset_Normalized.csv', \n",
    "                       index = False)"
   ]
  },
  {
   "cell_type": "markdown",
   "id": "3492d408",
   "metadata": {},
   "source": [
    "## TF-IDF modeling"
   ]
  },
  {
   "cell_type": "code",
   "execution_count": 36,
   "id": "9fbd7bb3",
   "metadata": {},
   "outputs": [],
   "source": [
    "# TF-IDF\n",
    "from sklearn.feature_extraction.text import TfidfVectorizer\n",
    "\n",
    "# Train-test split, cross validation and feature selections\n",
    "from sklearn.model_selection import train_test_split, ParameterGrid\n",
    "from sklearn.feature_selection import SelectKBest, mutual_info_classif\n",
    "\n",
    "# Naive Bayes\n",
    "from sklearn.naive_bayes import MultinomialNB\n",
    "\n",
    "# Model evaluation\n",
    "from sklearn import metrics\n",
    "from sklearn.metrics import accuracy_score"
   ]
  },
  {
   "cell_type": "code",
   "execution_count": 37,
   "id": "4764600d",
   "metadata": {},
   "outputs": [
    {
     "name": "stdout",
     "output_type": "stream",
     "text": [
      "(27802, 2)\n"
     ]
    },
    {
     "data": {
      "text/html": [
       "<div>\n",
       "<style scoped>\n",
       "    .dataframe tbody tr th:only-of-type {\n",
       "        vertical-align: middle;\n",
       "    }\n",
       "\n",
       "    .dataframe tbody tr th {\n",
       "        vertical-align: top;\n",
       "    }\n",
       "\n",
       "    .dataframe thead th {\n",
       "        text-align: right;\n",
       "    }\n",
       "</style>\n",
       "<table border=\"1\" class=\"dataframe\">\n",
       "  <thead>\n",
       "    <tr style=\"text-align: right;\">\n",
       "      <th></th>\n",
       "      <th>Normalized_Description</th>\n",
       "      <th>Category</th>\n",
       "    </tr>\n",
       "  </thead>\n",
       "  <tbody>\n",
       "    <tr>\n",
       "      <th>0</th>\n",
       "      <td>paper plane design framed wall hanging motivat...</td>\n",
       "      <td>1</td>\n",
       "    </tr>\n",
       "    <tr>\n",
       "      <th>1</th>\n",
       "      <td>saf framed painting wood inch x inch special e...</td>\n",
       "      <td>1</td>\n",
       "    </tr>\n",
       "    <tr>\n",
       "      <th>2</th>\n",
       "      <td>saf textured modern art print framed painting ...</td>\n",
       "      <td>1</td>\n",
       "    </tr>\n",
       "    <tr>\n",
       "      <th>3</th>\n",
       "      <td>saf flower print framed painting synthetic inc...</td>\n",
       "      <td>1</td>\n",
       "    </tr>\n",
       "    <tr>\n",
       "      <th>4</th>\n",
       "      <td>incredible gift india wooden happy birthday un...</td>\n",
       "      <td>1</td>\n",
       "    </tr>\n",
       "    <tr>\n",
       "      <th>...</th>\n",
       "      <td>...</td>\n",
       "      <td>...</td>\n",
       "    </tr>\n",
       "    <tr>\n",
       "      <th>27797</th>\n",
       "      <td>micromax bharat plus zero impact visual displa...</td>\n",
       "      <td>0</td>\n",
       "    </tr>\n",
       "    <tr>\n",
       "      <th>27798</th>\n",
       "      <td>microsoft lumia black microsoft lumia experien...</td>\n",
       "      <td>0</td>\n",
       "    </tr>\n",
       "    <tr>\n",
       "      <th>27799</th>\n",
       "      <td>microsoft lumia black colourblack product desc...</td>\n",
       "      <td>0</td>\n",
       "    </tr>\n",
       "    <tr>\n",
       "      <th>27800</th>\n",
       "      <td>karbonn titanium wind white karbonn titanium w...</td>\n",
       "      <td>0</td>\n",
       "    </tr>\n",
       "    <tr>\n",
       "      <th>27801</th>\n",
       "      <td>nokia lumia dual sim grey colourgrey product d...</td>\n",
       "      <td>0</td>\n",
       "    </tr>\n",
       "  </tbody>\n",
       "</table>\n",
       "<p>27802 rows × 2 columns</p>\n",
       "</div>"
      ],
      "text/plain": [
       "                                  Normalized_Description  Category\n",
       "0      paper plane design framed wall hanging motivat...         1\n",
       "1      saf framed painting wood inch x inch special e...         1\n",
       "2      saf textured modern art print framed painting ...         1\n",
       "3      saf flower print framed painting synthetic inc...         1\n",
       "4      incredible gift india wooden happy birthday un...         1\n",
       "...                                                  ...       ...\n",
       "27797  micromax bharat plus zero impact visual displa...         0\n",
       "27798  microsoft lumia black microsoft lumia experien...         0\n",
       "27799  microsoft lumia black colourblack product desc...         0\n",
       "27800  karbonn titanium wind white karbonn titanium w...         0\n",
       "27801  nokia lumia dual sim grey colourgrey product d...         0\n",
       "\n",
       "[27802 rows x 2 columns]"
      ]
     },
     "execution_count": 37,
     "metadata": {},
     "output_type": "execute_result"
    }
   ],
   "source": [
    "# Loading the normalized data\n",
    "data = pd.read_csv('C:/Users/manal/OneDrive/Desktop/MBDIO/S2/Text_Mining/Projet/E-commerce_Dataset_Normalized.csv')\n",
    "print(data.shape)\n",
    "data"
   ]
  },
  {
   "cell_type": "code",
   "execution_count": 38,
   "id": "0b386587",
   "metadata": {},
   "outputs": [
    {
     "name": "stdout",
     "output_type": "stream",
     "text": [
      "Number of observations with missing values      0\n",
      "Number of duplicate observations              468\n"
     ]
    }
   ],
   "source": [
    "# Missing values and duplicate observations\n",
    "print(pd.Series({\"Number of observations with missing values\": len(data) - len(data.dropna()),\n",
    "                 \"Number of duplicate observations\": data.duplicated().sum()}).to_string())"
   ]
  },
  {
   "cell_type": "code",
   "execution_count": 39,
   "id": "c78911eb",
   "metadata": {},
   "outputs": [],
   "source": [
    "# Dropping duplicate observations\n",
    "data.drop_duplicates(inplace = True) \n",
    "# Resetting index\n",
    "data.reset_index(drop = True, inplace = True) "
   ]
  },
  {
   "cell_type": "code",
   "execution_count": 40,
   "id": "2b001f04",
   "metadata": {},
   "outputs": [
    {
     "name": "stdout",
     "output_type": "stream",
     "text": [
      "Number of observations with missing values    0\n",
      "Number of duplicate observations              0\n"
     ]
    }
   ],
   "source": [
    "# Missing values and duplicate observations\n",
    "print(pd.Series({\"Number of observations with missing values\": len(data) - len(data.dropna()),\n",
    "                 \"Number of duplicate observations\": data.duplicated().sum()}).to_string())"
   ]
  },
  {
   "cell_type": "code",
   "execution_count": 41,
   "id": "ede92805",
   "metadata": {},
   "outputs": [
    {
     "data": {
      "text/html": [
       "<div>\n",
       "<style scoped>\n",
       "    .dataframe tbody tr th:only-of-type {\n",
       "        vertical-align: middle;\n",
       "    }\n",
       "\n",
       "    .dataframe tbody tr th {\n",
       "        vertical-align: top;\n",
       "    }\n",
       "\n",
       "    .dataframe thead th {\n",
       "        text-align: right;\n",
       "    }\n",
       "</style>\n",
       "<table border=\"1\" class=\"dataframe\">\n",
       "  <thead>\n",
       "    <tr style=\"text-align: right;\">\n",
       "      <th></th>\n",
       "      <th>Normalized_Description</th>\n",
       "      <th>Category</th>\n",
       "    </tr>\n",
       "  </thead>\n",
       "  <tbody>\n",
       "    <tr>\n",
       "      <th>0</th>\n",
       "      <td>paper plane design framed wall hanging motivat...</td>\n",
       "      <td>1</td>\n",
       "    </tr>\n",
       "    <tr>\n",
       "      <th>1</th>\n",
       "      <td>saf framed painting wood inch x inch special e...</td>\n",
       "      <td>1</td>\n",
       "    </tr>\n",
       "    <tr>\n",
       "      <th>2</th>\n",
       "      <td>saf textured modern art print framed painting ...</td>\n",
       "      <td>1</td>\n",
       "    </tr>\n",
       "    <tr>\n",
       "      <th>3</th>\n",
       "      <td>saf flower print framed painting synthetic inc...</td>\n",
       "      <td>1</td>\n",
       "    </tr>\n",
       "    <tr>\n",
       "      <th>4</th>\n",
       "      <td>incredible gift india wooden happy birthday un...</td>\n",
       "      <td>1</td>\n",
       "    </tr>\n",
       "    <tr>\n",
       "      <th>...</th>\n",
       "      <td>...</td>\n",
       "      <td>...</td>\n",
       "    </tr>\n",
       "    <tr>\n",
       "      <th>27329</th>\n",
       "      <td>micromax bharat plus zero impact visual displa...</td>\n",
       "      <td>0</td>\n",
       "    </tr>\n",
       "    <tr>\n",
       "      <th>27330</th>\n",
       "      <td>microsoft lumia black microsoft lumia experien...</td>\n",
       "      <td>0</td>\n",
       "    </tr>\n",
       "    <tr>\n",
       "      <th>27331</th>\n",
       "      <td>microsoft lumia black colourblack product desc...</td>\n",
       "      <td>0</td>\n",
       "    </tr>\n",
       "    <tr>\n",
       "      <th>27332</th>\n",
       "      <td>karbonn titanium wind white karbonn titanium w...</td>\n",
       "      <td>0</td>\n",
       "    </tr>\n",
       "    <tr>\n",
       "      <th>27333</th>\n",
       "      <td>nokia lumia dual sim grey colourgrey product d...</td>\n",
       "      <td>0</td>\n",
       "    </tr>\n",
       "  </tbody>\n",
       "</table>\n",
       "<p>27334 rows × 2 columns</p>\n",
       "</div>"
      ],
      "text/plain": [
       "                                  Normalized_Description  Category\n",
       "0      paper plane design framed wall hanging motivat...         1\n",
       "1      saf framed painting wood inch x inch special e...         1\n",
       "2      saf textured modern art print framed painting ...         1\n",
       "3      saf flower print framed painting synthetic inc...         1\n",
       "4      incredible gift india wooden happy birthday un...         1\n",
       "...                                                  ...       ...\n",
       "27329  micromax bharat plus zero impact visual displa...         0\n",
       "27330  microsoft lumia black microsoft lumia experien...         0\n",
       "27331  microsoft lumia black colourblack product desc...         0\n",
       "27332  karbonn titanium wind white karbonn titanium w...         0\n",
       "27333  nokia lumia dual sim grey colourgrey product d...         0\n",
       "\n",
       "[27334 rows x 2 columns]"
      ]
     },
     "execution_count": 41,
     "metadata": {},
     "output_type": "execute_result"
    }
   ],
   "source": [
    "data"
   ]
  },
  {
   "cell_type": "code",
   "execution_count": 42,
   "id": "09fb0f8f",
   "metadata": {},
   "outputs": [],
   "source": [
    "# Feature-target split\n",
    "X, y = data.drop('Category', axis = 1), data['Category']"
   ]
  },
  {
   "cell_type": "code",
   "execution_count": 43,
   "id": "96fc1c74",
   "metadata": {},
   "outputs": [
    {
     "data": {
      "application/vnd.plotly.v1+json": {
       "config": {
        "plotlyServerURL": "https://plot.ly"
       },
       "data": [
        {
         "hole": 0.5,
         "labels": [
          "Training set",
          "Validation Set",
          "Test set"
         ],
         "textinfo": "percent",
         "title": {
          "text": " "
         },
         "type": "pie",
         "values": [
          21867,
          2733,
          2734
         ]
        }
       ],
       "layout": {
        "height": 500,
        "showlegend": true,
        "template": {
         "data": {
          "bar": [
           {
            "error_x": {
             "color": "#2a3f5f"
            },
            "error_y": {
             "color": "#2a3f5f"
            },
            "marker": {
             "line": {
              "color": "#E5ECF6",
              "width": 0.5
             },
             "pattern": {
              "fillmode": "overlay",
              "size": 10,
              "solidity": 0.2
             }
            },
            "type": "bar"
           }
          ],
          "barpolar": [
           {
            "marker": {
             "line": {
              "color": "#E5ECF6",
              "width": 0.5
             },
             "pattern": {
              "fillmode": "overlay",
              "size": 10,
              "solidity": 0.2
             }
            },
            "type": "barpolar"
           }
          ],
          "carpet": [
           {
            "aaxis": {
             "endlinecolor": "#2a3f5f",
             "gridcolor": "white",
             "linecolor": "white",
             "minorgridcolor": "white",
             "startlinecolor": "#2a3f5f"
            },
            "baxis": {
             "endlinecolor": "#2a3f5f",
             "gridcolor": "white",
             "linecolor": "white",
             "minorgridcolor": "white",
             "startlinecolor": "#2a3f5f"
            },
            "type": "carpet"
           }
          ],
          "choropleth": [
           {
            "colorbar": {
             "outlinewidth": 0,
             "ticks": ""
            },
            "type": "choropleth"
           }
          ],
          "contour": [
           {
            "colorbar": {
             "outlinewidth": 0,
             "ticks": ""
            },
            "colorscale": [
             [
              0,
              "#0d0887"
             ],
             [
              0.1111111111111111,
              "#46039f"
             ],
             [
              0.2222222222222222,
              "#7201a8"
             ],
             [
              0.3333333333333333,
              "#9c179e"
             ],
             [
              0.4444444444444444,
              "#bd3786"
             ],
             [
              0.5555555555555556,
              "#d8576b"
             ],
             [
              0.6666666666666666,
              "#ed7953"
             ],
             [
              0.7777777777777778,
              "#fb9f3a"
             ],
             [
              0.8888888888888888,
              "#fdca26"
             ],
             [
              1,
              "#f0f921"
             ]
            ],
            "type": "contour"
           }
          ],
          "contourcarpet": [
           {
            "colorbar": {
             "outlinewidth": 0,
             "ticks": ""
            },
            "type": "contourcarpet"
           }
          ],
          "heatmap": [
           {
            "colorbar": {
             "outlinewidth": 0,
             "ticks": ""
            },
            "colorscale": [
             [
              0,
              "#0d0887"
             ],
             [
              0.1111111111111111,
              "#46039f"
             ],
             [
              0.2222222222222222,
              "#7201a8"
             ],
             [
              0.3333333333333333,
              "#9c179e"
             ],
             [
              0.4444444444444444,
              "#bd3786"
             ],
             [
              0.5555555555555556,
              "#d8576b"
             ],
             [
              0.6666666666666666,
              "#ed7953"
             ],
             [
              0.7777777777777778,
              "#fb9f3a"
             ],
             [
              0.8888888888888888,
              "#fdca26"
             ],
             [
              1,
              "#f0f921"
             ]
            ],
            "type": "heatmap"
           }
          ],
          "heatmapgl": [
           {
            "colorbar": {
             "outlinewidth": 0,
             "ticks": ""
            },
            "colorscale": [
             [
              0,
              "#0d0887"
             ],
             [
              0.1111111111111111,
              "#46039f"
             ],
             [
              0.2222222222222222,
              "#7201a8"
             ],
             [
              0.3333333333333333,
              "#9c179e"
             ],
             [
              0.4444444444444444,
              "#bd3786"
             ],
             [
              0.5555555555555556,
              "#d8576b"
             ],
             [
              0.6666666666666666,
              "#ed7953"
             ],
             [
              0.7777777777777778,
              "#fb9f3a"
             ],
             [
              0.8888888888888888,
              "#fdca26"
             ],
             [
              1,
              "#f0f921"
             ]
            ],
            "type": "heatmapgl"
           }
          ],
          "histogram": [
           {
            "marker": {
             "pattern": {
              "fillmode": "overlay",
              "size": 10,
              "solidity": 0.2
             }
            },
            "type": "histogram"
           }
          ],
          "histogram2d": [
           {
            "colorbar": {
             "outlinewidth": 0,
             "ticks": ""
            },
            "colorscale": [
             [
              0,
              "#0d0887"
             ],
             [
              0.1111111111111111,
              "#46039f"
             ],
             [
              0.2222222222222222,
              "#7201a8"
             ],
             [
              0.3333333333333333,
              "#9c179e"
             ],
             [
              0.4444444444444444,
              "#bd3786"
             ],
             [
              0.5555555555555556,
              "#d8576b"
             ],
             [
              0.6666666666666666,
              "#ed7953"
             ],
             [
              0.7777777777777778,
              "#fb9f3a"
             ],
             [
              0.8888888888888888,
              "#fdca26"
             ],
             [
              1,
              "#f0f921"
             ]
            ],
            "type": "histogram2d"
           }
          ],
          "histogram2dcontour": [
           {
            "colorbar": {
             "outlinewidth": 0,
             "ticks": ""
            },
            "colorscale": [
             [
              0,
              "#0d0887"
             ],
             [
              0.1111111111111111,
              "#46039f"
             ],
             [
              0.2222222222222222,
              "#7201a8"
             ],
             [
              0.3333333333333333,
              "#9c179e"
             ],
             [
              0.4444444444444444,
              "#bd3786"
             ],
             [
              0.5555555555555556,
              "#d8576b"
             ],
             [
              0.6666666666666666,
              "#ed7953"
             ],
             [
              0.7777777777777778,
              "#fb9f3a"
             ],
             [
              0.8888888888888888,
              "#fdca26"
             ],
             [
              1,
              "#f0f921"
             ]
            ],
            "type": "histogram2dcontour"
           }
          ],
          "mesh3d": [
           {
            "colorbar": {
             "outlinewidth": 0,
             "ticks": ""
            },
            "type": "mesh3d"
           }
          ],
          "parcoords": [
           {
            "line": {
             "colorbar": {
              "outlinewidth": 0,
              "ticks": ""
             }
            },
            "type": "parcoords"
           }
          ],
          "pie": [
           {
            "automargin": true,
            "type": "pie"
           }
          ],
          "scatter": [
           {
            "fillpattern": {
             "fillmode": "overlay",
             "size": 10,
             "solidity": 0.2
            },
            "type": "scatter"
           }
          ],
          "scatter3d": [
           {
            "line": {
             "colorbar": {
              "outlinewidth": 0,
              "ticks": ""
             }
            },
            "marker": {
             "colorbar": {
              "outlinewidth": 0,
              "ticks": ""
             }
            },
            "type": "scatter3d"
           }
          ],
          "scattercarpet": [
           {
            "marker": {
             "colorbar": {
              "outlinewidth": 0,
              "ticks": ""
             }
            },
            "type": "scattercarpet"
           }
          ],
          "scattergeo": [
           {
            "marker": {
             "colorbar": {
              "outlinewidth": 0,
              "ticks": ""
             }
            },
            "type": "scattergeo"
           }
          ],
          "scattergl": [
           {
            "marker": {
             "colorbar": {
              "outlinewidth": 0,
              "ticks": ""
             }
            },
            "type": "scattergl"
           }
          ],
          "scattermapbox": [
           {
            "marker": {
             "colorbar": {
              "outlinewidth": 0,
              "ticks": ""
             }
            },
            "type": "scattermapbox"
           }
          ],
          "scatterpolar": [
           {
            "marker": {
             "colorbar": {
              "outlinewidth": 0,
              "ticks": ""
             }
            },
            "type": "scatterpolar"
           }
          ],
          "scatterpolargl": [
           {
            "marker": {
             "colorbar": {
              "outlinewidth": 0,
              "ticks": ""
             }
            },
            "type": "scatterpolargl"
           }
          ],
          "scatterternary": [
           {
            "marker": {
             "colorbar": {
              "outlinewidth": 0,
              "ticks": ""
             }
            },
            "type": "scatterternary"
           }
          ],
          "surface": [
           {
            "colorbar": {
             "outlinewidth": 0,
             "ticks": ""
            },
            "colorscale": [
             [
              0,
              "#0d0887"
             ],
             [
              0.1111111111111111,
              "#46039f"
             ],
             [
              0.2222222222222222,
              "#7201a8"
             ],
             [
              0.3333333333333333,
              "#9c179e"
             ],
             [
              0.4444444444444444,
              "#bd3786"
             ],
             [
              0.5555555555555556,
              "#d8576b"
             ],
             [
              0.6666666666666666,
              "#ed7953"
             ],
             [
              0.7777777777777778,
              "#fb9f3a"
             ],
             [
              0.8888888888888888,
              "#fdca26"
             ],
             [
              1,
              "#f0f921"
             ]
            ],
            "type": "surface"
           }
          ],
          "table": [
           {
            "cells": {
             "fill": {
              "color": "#EBF0F8"
             },
             "line": {
              "color": "white"
             }
            },
            "header": {
             "fill": {
              "color": "#C8D4E3"
             },
             "line": {
              "color": "white"
             }
            },
            "type": "table"
           }
          ]
         },
         "layout": {
          "annotationdefaults": {
           "arrowcolor": "#2a3f5f",
           "arrowhead": 0,
           "arrowwidth": 1
          },
          "autotypenumbers": "strict",
          "coloraxis": {
           "colorbar": {
            "outlinewidth": 0,
            "ticks": ""
           }
          },
          "colorscale": {
           "diverging": [
            [
             0,
             "#8e0152"
            ],
            [
             0.1,
             "#c51b7d"
            ],
            [
             0.2,
             "#de77ae"
            ],
            [
             0.3,
             "#f1b6da"
            ],
            [
             0.4,
             "#fde0ef"
            ],
            [
             0.5,
             "#f7f7f7"
            ],
            [
             0.6,
             "#e6f5d0"
            ],
            [
             0.7,
             "#b8e186"
            ],
            [
             0.8,
             "#7fbc41"
            ],
            [
             0.9,
             "#4d9221"
            ],
            [
             1,
             "#276419"
            ]
           ],
           "sequential": [
            [
             0,
             "#0d0887"
            ],
            [
             0.1111111111111111,
             "#46039f"
            ],
            [
             0.2222222222222222,
             "#7201a8"
            ],
            [
             0.3333333333333333,
             "#9c179e"
            ],
            [
             0.4444444444444444,
             "#bd3786"
            ],
            [
             0.5555555555555556,
             "#d8576b"
            ],
            [
             0.6666666666666666,
             "#ed7953"
            ],
            [
             0.7777777777777778,
             "#fb9f3a"
            ],
            [
             0.8888888888888888,
             "#fdca26"
            ],
            [
             1,
             "#f0f921"
            ]
           ],
           "sequentialminus": [
            [
             0,
             "#0d0887"
            ],
            [
             0.1111111111111111,
             "#46039f"
            ],
            [
             0.2222222222222222,
             "#7201a8"
            ],
            [
             0.3333333333333333,
             "#9c179e"
            ],
            [
             0.4444444444444444,
             "#bd3786"
            ],
            [
             0.5555555555555556,
             "#d8576b"
            ],
            [
             0.6666666666666666,
             "#ed7953"
            ],
            [
             0.7777777777777778,
             "#fb9f3a"
            ],
            [
             0.8888888888888888,
             "#fdca26"
            ],
            [
             1,
             "#f0f921"
            ]
           ]
          },
          "colorway": [
           "#636efa",
           "#EF553B",
           "#00cc96",
           "#ab63fa",
           "#FFA15A",
           "#19d3f3",
           "#FF6692",
           "#B6E880",
           "#FF97FF",
           "#FECB52"
          ],
          "font": {
           "color": "#2a3f5f"
          },
          "geo": {
           "bgcolor": "white",
           "lakecolor": "white",
           "landcolor": "#E5ECF6",
           "showlakes": true,
           "showland": true,
           "subunitcolor": "white"
          },
          "hoverlabel": {
           "align": "left"
          },
          "hovermode": "closest",
          "mapbox": {
           "style": "light"
          },
          "paper_bgcolor": "white",
          "plot_bgcolor": "#E5ECF6",
          "polar": {
           "angularaxis": {
            "gridcolor": "white",
            "linecolor": "white",
            "ticks": ""
           },
           "bgcolor": "#E5ECF6",
           "radialaxis": {
            "gridcolor": "white",
            "linecolor": "white",
            "ticks": ""
           }
          },
          "scene": {
           "xaxis": {
            "backgroundcolor": "#E5ECF6",
            "gridcolor": "white",
            "gridwidth": 2,
            "linecolor": "white",
            "showbackground": true,
            "ticks": "",
            "zerolinecolor": "white"
           },
           "yaxis": {
            "backgroundcolor": "#E5ECF6",
            "gridcolor": "white",
            "gridwidth": 2,
            "linecolor": "white",
            "showbackground": true,
            "ticks": "",
            "zerolinecolor": "white"
           },
           "zaxis": {
            "backgroundcolor": "#E5ECF6",
            "gridcolor": "white",
            "gridwidth": 2,
            "linecolor": "white",
            "showbackground": true,
            "ticks": "",
            "zerolinecolor": "white"
           }
          },
          "shapedefaults": {
           "line": {
            "color": "#2a3f5f"
           }
          },
          "ternary": {
           "aaxis": {
            "gridcolor": "white",
            "linecolor": "white",
            "ticks": ""
           },
           "baxis": {
            "gridcolor": "white",
            "linecolor": "white",
            "ticks": ""
           },
           "bgcolor": "#E5ECF6",
           "caxis": {
            "gridcolor": "white",
            "linecolor": "white",
            "ticks": ""
           }
          },
          "title": {
           "x": 0.05
          },
          "xaxis": {
           "automargin": true,
           "gridcolor": "white",
           "linecolor": "white",
           "ticks": "",
           "title": {
            "standoff": 15
           },
           "zerolinecolor": "white",
           "zerolinewidth": 2
          },
          "yaxis": {
           "automargin": true,
           "gridcolor": "white",
           "linecolor": "white",
           "ticks": "",
           "title": {
            "standoff": 15
           },
           "zerolinecolor": "white",
           "zerolinewidth": 2
          }
         }
        },
        "title": {
         "text": "Comparison of sizes of training set and test set",
         "x": 0.5,
         "y": 0.95
        },
        "width": 800
       }
      },
      "text/html": [
       "<div>                            <div id=\"aec32fff-ab15-4d6d-b833-7fde75c966cd\" class=\"plotly-graph-div\" style=\"height:500px; width:800px;\"></div>            <script type=\"text/javascript\">                require([\"plotly\"], function(Plotly) {                    window.PLOTLYENV=window.PLOTLYENV || {};                                    if (document.getElementById(\"aec32fff-ab15-4d6d-b833-7fde75c966cd\")) {                    Plotly.newPlot(                        \"aec32fff-ab15-4d6d-b833-7fde75c966cd\",                        [{\"hole\":0.5,\"labels\":[\"Training set\",\"Validation Set\",\"Test set\"],\"textinfo\":\"percent\",\"title\":{\"text\":\" \"},\"values\":[21867,2733,2734],\"type\":\"pie\"}],                        {\"template\":{\"data\":{\"histogram2dcontour\":[{\"type\":\"histogram2dcontour\",\"colorbar\":{\"outlinewidth\":0,\"ticks\":\"\"},\"colorscale\":[[0.0,\"#0d0887\"],[0.1111111111111111,\"#46039f\"],[0.2222222222222222,\"#7201a8\"],[0.3333333333333333,\"#9c179e\"],[0.4444444444444444,\"#bd3786\"],[0.5555555555555556,\"#d8576b\"],[0.6666666666666666,\"#ed7953\"],[0.7777777777777778,\"#fb9f3a\"],[0.8888888888888888,\"#fdca26\"],[1.0,\"#f0f921\"]]}],\"choropleth\":[{\"type\":\"choropleth\",\"colorbar\":{\"outlinewidth\":0,\"ticks\":\"\"}}],\"histogram2d\":[{\"type\":\"histogram2d\",\"colorbar\":{\"outlinewidth\":0,\"ticks\":\"\"},\"colorscale\":[[0.0,\"#0d0887\"],[0.1111111111111111,\"#46039f\"],[0.2222222222222222,\"#7201a8\"],[0.3333333333333333,\"#9c179e\"],[0.4444444444444444,\"#bd3786\"],[0.5555555555555556,\"#d8576b\"],[0.6666666666666666,\"#ed7953\"],[0.7777777777777778,\"#fb9f3a\"],[0.8888888888888888,\"#fdca26\"],[1.0,\"#f0f921\"]]}],\"heatmap\":[{\"type\":\"heatmap\",\"colorbar\":{\"outlinewidth\":0,\"ticks\":\"\"},\"colorscale\":[[0.0,\"#0d0887\"],[0.1111111111111111,\"#46039f\"],[0.2222222222222222,\"#7201a8\"],[0.3333333333333333,\"#9c179e\"],[0.4444444444444444,\"#bd3786\"],[0.5555555555555556,\"#d8576b\"],[0.6666666666666666,\"#ed7953\"],[0.7777777777777778,\"#fb9f3a\"],[0.8888888888888888,\"#fdca26\"],[1.0,\"#f0f921\"]]}],\"heatmapgl\":[{\"type\":\"heatmapgl\",\"colorbar\":{\"outlinewidth\":0,\"ticks\":\"\"},\"colorscale\":[[0.0,\"#0d0887\"],[0.1111111111111111,\"#46039f\"],[0.2222222222222222,\"#7201a8\"],[0.3333333333333333,\"#9c179e\"],[0.4444444444444444,\"#bd3786\"],[0.5555555555555556,\"#d8576b\"],[0.6666666666666666,\"#ed7953\"],[0.7777777777777778,\"#fb9f3a\"],[0.8888888888888888,\"#fdca26\"],[1.0,\"#f0f921\"]]}],\"contourcarpet\":[{\"type\":\"contourcarpet\",\"colorbar\":{\"outlinewidth\":0,\"ticks\":\"\"}}],\"contour\":[{\"type\":\"contour\",\"colorbar\":{\"outlinewidth\":0,\"ticks\":\"\"},\"colorscale\":[[0.0,\"#0d0887\"],[0.1111111111111111,\"#46039f\"],[0.2222222222222222,\"#7201a8\"],[0.3333333333333333,\"#9c179e\"],[0.4444444444444444,\"#bd3786\"],[0.5555555555555556,\"#d8576b\"],[0.6666666666666666,\"#ed7953\"],[0.7777777777777778,\"#fb9f3a\"],[0.8888888888888888,\"#fdca26\"],[1.0,\"#f0f921\"]]}],\"surface\":[{\"type\":\"surface\",\"colorbar\":{\"outlinewidth\":0,\"ticks\":\"\"},\"colorscale\":[[0.0,\"#0d0887\"],[0.1111111111111111,\"#46039f\"],[0.2222222222222222,\"#7201a8\"],[0.3333333333333333,\"#9c179e\"],[0.4444444444444444,\"#bd3786\"],[0.5555555555555556,\"#d8576b\"],[0.6666666666666666,\"#ed7953\"],[0.7777777777777778,\"#fb9f3a\"],[0.8888888888888888,\"#fdca26\"],[1.0,\"#f0f921\"]]}],\"mesh3d\":[{\"type\":\"mesh3d\",\"colorbar\":{\"outlinewidth\":0,\"ticks\":\"\"}}],\"scatter\":[{\"fillpattern\":{\"fillmode\":\"overlay\",\"size\":10,\"solidity\":0.2},\"type\":\"scatter\"}],\"parcoords\":[{\"type\":\"parcoords\",\"line\":{\"colorbar\":{\"outlinewidth\":0,\"ticks\":\"\"}}}],\"scatterpolargl\":[{\"type\":\"scatterpolargl\",\"marker\":{\"colorbar\":{\"outlinewidth\":0,\"ticks\":\"\"}}}],\"bar\":[{\"error_x\":{\"color\":\"#2a3f5f\"},\"error_y\":{\"color\":\"#2a3f5f\"},\"marker\":{\"line\":{\"color\":\"#E5ECF6\",\"width\":0.5},\"pattern\":{\"fillmode\":\"overlay\",\"size\":10,\"solidity\":0.2}},\"type\":\"bar\"}],\"scattergeo\":[{\"type\":\"scattergeo\",\"marker\":{\"colorbar\":{\"outlinewidth\":0,\"ticks\":\"\"}}}],\"scatterpolar\":[{\"type\":\"scatterpolar\",\"marker\":{\"colorbar\":{\"outlinewidth\":0,\"ticks\":\"\"}}}],\"histogram\":[{\"marker\":{\"pattern\":{\"fillmode\":\"overlay\",\"size\":10,\"solidity\":0.2}},\"type\":\"histogram\"}],\"scattergl\":[{\"type\":\"scattergl\",\"marker\":{\"colorbar\":{\"outlinewidth\":0,\"ticks\":\"\"}}}],\"scatter3d\":[{\"type\":\"scatter3d\",\"line\":{\"colorbar\":{\"outlinewidth\":0,\"ticks\":\"\"}},\"marker\":{\"colorbar\":{\"outlinewidth\":0,\"ticks\":\"\"}}}],\"scattermapbox\":[{\"type\":\"scattermapbox\",\"marker\":{\"colorbar\":{\"outlinewidth\":0,\"ticks\":\"\"}}}],\"scatterternary\":[{\"type\":\"scatterternary\",\"marker\":{\"colorbar\":{\"outlinewidth\":0,\"ticks\":\"\"}}}],\"scattercarpet\":[{\"type\":\"scattercarpet\",\"marker\":{\"colorbar\":{\"outlinewidth\":0,\"ticks\":\"\"}}}],\"carpet\":[{\"aaxis\":{\"endlinecolor\":\"#2a3f5f\",\"gridcolor\":\"white\",\"linecolor\":\"white\",\"minorgridcolor\":\"white\",\"startlinecolor\":\"#2a3f5f\"},\"baxis\":{\"endlinecolor\":\"#2a3f5f\",\"gridcolor\":\"white\",\"linecolor\":\"white\",\"minorgridcolor\":\"white\",\"startlinecolor\":\"#2a3f5f\"},\"type\":\"carpet\"}],\"table\":[{\"cells\":{\"fill\":{\"color\":\"#EBF0F8\"},\"line\":{\"color\":\"white\"}},\"header\":{\"fill\":{\"color\":\"#C8D4E3\"},\"line\":{\"color\":\"white\"}},\"type\":\"table\"}],\"barpolar\":[{\"marker\":{\"line\":{\"color\":\"#E5ECF6\",\"width\":0.5},\"pattern\":{\"fillmode\":\"overlay\",\"size\":10,\"solidity\":0.2}},\"type\":\"barpolar\"}],\"pie\":[{\"automargin\":true,\"type\":\"pie\"}]},\"layout\":{\"autotypenumbers\":\"strict\",\"colorway\":[\"#636efa\",\"#EF553B\",\"#00cc96\",\"#ab63fa\",\"#FFA15A\",\"#19d3f3\",\"#FF6692\",\"#B6E880\",\"#FF97FF\",\"#FECB52\"],\"font\":{\"color\":\"#2a3f5f\"},\"hovermode\":\"closest\",\"hoverlabel\":{\"align\":\"left\"},\"paper_bgcolor\":\"white\",\"plot_bgcolor\":\"#E5ECF6\",\"polar\":{\"bgcolor\":\"#E5ECF6\",\"angularaxis\":{\"gridcolor\":\"white\",\"linecolor\":\"white\",\"ticks\":\"\"},\"radialaxis\":{\"gridcolor\":\"white\",\"linecolor\":\"white\",\"ticks\":\"\"}},\"ternary\":{\"bgcolor\":\"#E5ECF6\",\"aaxis\":{\"gridcolor\":\"white\",\"linecolor\":\"white\",\"ticks\":\"\"},\"baxis\":{\"gridcolor\":\"white\",\"linecolor\":\"white\",\"ticks\":\"\"},\"caxis\":{\"gridcolor\":\"white\",\"linecolor\":\"white\",\"ticks\":\"\"}},\"coloraxis\":{\"colorbar\":{\"outlinewidth\":0,\"ticks\":\"\"}},\"colorscale\":{\"sequential\":[[0.0,\"#0d0887\"],[0.1111111111111111,\"#46039f\"],[0.2222222222222222,\"#7201a8\"],[0.3333333333333333,\"#9c179e\"],[0.4444444444444444,\"#bd3786\"],[0.5555555555555556,\"#d8576b\"],[0.6666666666666666,\"#ed7953\"],[0.7777777777777778,\"#fb9f3a\"],[0.8888888888888888,\"#fdca26\"],[1.0,\"#f0f921\"]],\"sequentialminus\":[[0.0,\"#0d0887\"],[0.1111111111111111,\"#46039f\"],[0.2222222222222222,\"#7201a8\"],[0.3333333333333333,\"#9c179e\"],[0.4444444444444444,\"#bd3786\"],[0.5555555555555556,\"#d8576b\"],[0.6666666666666666,\"#ed7953\"],[0.7777777777777778,\"#fb9f3a\"],[0.8888888888888888,\"#fdca26\"],[1.0,\"#f0f921\"]],\"diverging\":[[0,\"#8e0152\"],[0.1,\"#c51b7d\"],[0.2,\"#de77ae\"],[0.3,\"#f1b6da\"],[0.4,\"#fde0ef\"],[0.5,\"#f7f7f7\"],[0.6,\"#e6f5d0\"],[0.7,\"#b8e186\"],[0.8,\"#7fbc41\"],[0.9,\"#4d9221\"],[1,\"#276419\"]]},\"xaxis\":{\"gridcolor\":\"white\",\"linecolor\":\"white\",\"ticks\":\"\",\"title\":{\"standoff\":15},\"zerolinecolor\":\"white\",\"automargin\":true,\"zerolinewidth\":2},\"yaxis\":{\"gridcolor\":\"white\",\"linecolor\":\"white\",\"ticks\":\"\",\"title\":{\"standoff\":15},\"zerolinecolor\":\"white\",\"automargin\":true,\"zerolinewidth\":2},\"scene\":{\"xaxis\":{\"backgroundcolor\":\"#E5ECF6\",\"gridcolor\":\"white\",\"linecolor\":\"white\",\"showbackground\":true,\"ticks\":\"\",\"zerolinecolor\":\"white\",\"gridwidth\":2},\"yaxis\":{\"backgroundcolor\":\"#E5ECF6\",\"gridcolor\":\"white\",\"linecolor\":\"white\",\"showbackground\":true,\"ticks\":\"\",\"zerolinecolor\":\"white\",\"gridwidth\":2},\"zaxis\":{\"backgroundcolor\":\"#E5ECF6\",\"gridcolor\":\"white\",\"linecolor\":\"white\",\"showbackground\":true,\"ticks\":\"\",\"zerolinecolor\":\"white\",\"gridwidth\":2}},\"shapedefaults\":{\"line\":{\"color\":\"#2a3f5f\"}},\"annotationdefaults\":{\"arrowcolor\":\"#2a3f5f\",\"arrowhead\":0,\"arrowwidth\":1},\"geo\":{\"bgcolor\":\"white\",\"landcolor\":\"#E5ECF6\",\"subunitcolor\":\"white\",\"showland\":true,\"showlakes\":true,\"lakecolor\":\"white\"},\"title\":{\"x\":0.05},\"mapbox\":{\"style\":\"light\"}}},\"title\":{\"text\":\"Comparison of sizes of training set and test set\",\"x\":0.5,\"y\":0.95},\"height\":500,\"width\":800,\"showlegend\":true},                        {\"responsive\": true}                    ).then(function(){\n",
       "                            \n",
       "var gd = document.getElementById('aec32fff-ab15-4d6d-b833-7fde75c966cd');\n",
       "var x = new MutationObserver(function (mutations, observer) {{\n",
       "        var display = window.getComputedStyle(gd).display;\n",
       "        if (!display || display === 'none') {{\n",
       "            console.log([gd, 'removed!']);\n",
       "            Plotly.purge(gd);\n",
       "            observer.disconnect();\n",
       "        }}\n",
       "}});\n",
       "\n",
       "// Listen for the removal of the full notebook cells\n",
       "var notebookContainer = gd.closest('#notebook-container');\n",
       "if (notebookContainer) {{\n",
       "    x.observe(notebookContainer, {childList: true});\n",
       "}}\n",
       "\n",
       "// Listen for the clearing of the current output cell\n",
       "var outputEl = gd.closest('.output');\n",
       "if (outputEl) {{\n",
       "    x.observe(outputEl, {childList: true});\n",
       "}}\n",
       "\n",
       "                        })                };                });            </script>        </div>"
      ]
     },
     "metadata": {},
     "output_type": "display_data"
    }
   ],
   "source": [
    "# Train-test split (from complete data)\n",
    "X_train, X_test, y_train, y_test = train_test_split(X, y, test_size = 0.2, random_state = 40)\n",
    "data_train = pd.concat([X_train, y_train], axis = 1)\n",
    "\n",
    "# Validation-test split (from test data)\n",
    "X_val, X_test, y_val, y_test = train_test_split(X_test, y_test, test_size = 0.5, random_state = 40)\n",
    "data_val, data_test = pd.concat([X_val, y_val], axis = 1), pd.concat([X_test, y_test], axis = 1)\n",
    "\n",
    "# Comparison of sizes of training set and test set\n",
    "values = np.array([len(data_train), len(data_val), len(data_test)])\n",
    "labels = ['Training set', 'Validation Set', 'Test set']\n",
    "fig = go.Figure(data = [go.Pie(values = values, labels = labels, hole = 0.5, textinfo = 'percent', title = \" \")])\n",
    "text_title = \"Comparison of sizes of training set and test set\"\n",
    "fig.update_layout(height = 500, width = 800, showlegend = True, title = dict(text = text_title, x = 0.5, y = 0.95)) \n",
    "fig.show()"
   ]
  },
  {
   "cell_type": "code",
   "execution_count": 44,
   "id": "11298a0b",
   "metadata": {},
   "outputs": [],
   "source": [
    "# Features and labels\n",
    "X_train, y_train = data_train['Normalized_Description'].tolist(), data_train['Category'].tolist()\n",
    "X_val, y_val = data_val['Normalized_Description'].tolist(), data_val['Category'].tolist()\n",
    "X_test, y_test = data_test['Normalized_Description'].tolist(), data_test['Category'].tolist()"
   ]
  },
  {
   "cell_type": "code",
   "execution_count": 45,
   "id": "5c76edc8",
   "metadata": {},
   "outputs": [],
   "source": [
    "# TF-IDF vectorization\n",
    "TfidfVec = TfidfVectorizer()\n",
    "X_train_tfidf = TfidfVec.fit_transform(X_train)\n",
    "X_val_tfidf = TfidfVec.transform(X_val)\n",
    "X_test_tfidf = TfidfVec.transform(X_test)"
   ]
  },
  {
   "cell_type": "code",
   "execution_count": 46,
   "id": "da8c7a7f",
   "metadata": {},
   "outputs": [
    {
     "data": {
      "text/plain": [
       "(21867, 72032)"
      ]
     },
     "execution_count": 46,
     "metadata": {},
     "output_type": "execute_result"
    }
   ],
   "source": [
    "X_train_tfidf.shape"
   ]
  },
  {
   "cell_type": "code",
   "execution_count": 47,
   "id": "de262a02",
   "metadata": {},
   "outputs": [
    {
     "data": {
      "text/plain": [
       "<21867x72032 sparse matrix of type '<class 'numpy.float64'>'\n",
       "\twith 1104313 stored elements in Compressed Sparse Row format>"
      ]
     },
     "execution_count": 47,
     "metadata": {},
     "output_type": "execute_result"
    }
   ],
   "source": [
    "X_train_tfidf"
   ]
  },
  {
   "cell_type": "code",
   "execution_count": 48,
   "id": "eb8e413f",
   "metadata": {},
   "outputs": [],
   "source": [
    "import warnings\n",
    "warnings.filterwarnings(\"ignore\", category=UserWarning)"
   ]
  },
  {
   "cell_type": "code",
   "execution_count": 49,
   "id": "94616c2a",
   "metadata": {},
   "outputs": [],
   "source": [
    "selector = SelectKBest(mutual_info_classif, k=8000)\n",
    "X_train_tfidf_selected = selector.fit_transform(X_train_tfidf, y_train)\n",
    "X_val_tfidf_selected = selector.transform(X_val_tfidf)\n",
    "X_test_tfidf_selected = selector.transform(X_test_tfidf)"
   ]
  },
  {
   "cell_type": "code",
   "execution_count": 50,
   "id": "33569e25",
   "metadata": {},
   "outputs": [
    {
     "data": {
      "text/html": [
       "<style>#sk-container-id-1 {color: black;background-color: white;}#sk-container-id-1 pre{padding: 0;}#sk-container-id-1 div.sk-toggleable {background-color: white;}#sk-container-id-1 label.sk-toggleable__label {cursor: pointer;display: block;width: 100%;margin-bottom: 0;padding: 0.3em;box-sizing: border-box;text-align: center;}#sk-container-id-1 label.sk-toggleable__label-arrow:before {content: \"▸\";float: left;margin-right: 0.25em;color: #696969;}#sk-container-id-1 label.sk-toggleable__label-arrow:hover:before {color: black;}#sk-container-id-1 div.sk-estimator:hover label.sk-toggleable__label-arrow:before {color: black;}#sk-container-id-1 div.sk-toggleable__content {max-height: 0;max-width: 0;overflow: hidden;text-align: left;background-color: #f0f8ff;}#sk-container-id-1 div.sk-toggleable__content pre {margin: 0.2em;color: black;border-radius: 0.25em;background-color: #f0f8ff;}#sk-container-id-1 input.sk-toggleable__control:checked~div.sk-toggleable__content {max-height: 200px;max-width: 100%;overflow: auto;}#sk-container-id-1 input.sk-toggleable__control:checked~label.sk-toggleable__label-arrow:before {content: \"▾\";}#sk-container-id-1 div.sk-estimator input.sk-toggleable__control:checked~label.sk-toggleable__label {background-color: #d4ebff;}#sk-container-id-1 div.sk-label input.sk-toggleable__control:checked~label.sk-toggleable__label {background-color: #d4ebff;}#sk-container-id-1 input.sk-hidden--visually {border: 0;clip: rect(1px 1px 1px 1px);clip: rect(1px, 1px, 1px, 1px);height: 1px;margin: -1px;overflow: hidden;padding: 0;position: absolute;width: 1px;}#sk-container-id-1 div.sk-estimator {font-family: monospace;background-color: #f0f8ff;border: 1px dotted black;border-radius: 0.25em;box-sizing: border-box;margin-bottom: 0.5em;}#sk-container-id-1 div.sk-estimator:hover {background-color: #d4ebff;}#sk-container-id-1 div.sk-parallel-item::after {content: \"\";width: 100%;border-bottom: 1px solid gray;flex-grow: 1;}#sk-container-id-1 div.sk-label:hover label.sk-toggleable__label {background-color: #d4ebff;}#sk-container-id-1 div.sk-serial::before {content: \"\";position: absolute;border-left: 1px solid gray;box-sizing: border-box;top: 0;bottom: 0;left: 50%;z-index: 0;}#sk-container-id-1 div.sk-serial {display: flex;flex-direction: column;align-items: center;background-color: white;padding-right: 0.2em;padding-left: 0.2em;position: relative;}#sk-container-id-1 div.sk-item {position: relative;z-index: 1;}#sk-container-id-1 div.sk-parallel {display: flex;align-items: stretch;justify-content: center;background-color: white;position: relative;}#sk-container-id-1 div.sk-item::before, #sk-container-id-1 div.sk-parallel-item::before {content: \"\";position: absolute;border-left: 1px solid gray;box-sizing: border-box;top: 0;bottom: 0;left: 50%;z-index: -1;}#sk-container-id-1 div.sk-parallel-item {display: flex;flex-direction: column;z-index: 1;position: relative;background-color: white;}#sk-container-id-1 div.sk-parallel-item:first-child::after {align-self: flex-end;width: 50%;}#sk-container-id-1 div.sk-parallel-item:last-child::after {align-self: flex-start;width: 50%;}#sk-container-id-1 div.sk-parallel-item:only-child::after {width: 0;}#sk-container-id-1 div.sk-dashed-wrapped {border: 1px dashed gray;margin: 0 0.4em 0.5em 0.4em;box-sizing: border-box;padding-bottom: 0.4em;background-color: white;}#sk-container-id-1 div.sk-label label {font-family: monospace;font-weight: bold;display: inline-block;line-height: 1.2em;}#sk-container-id-1 div.sk-label-container {text-align: center;}#sk-container-id-1 div.sk-container {/* jupyter's `normalize.less` sets `[hidden] { display: none; }` but bootstrap.min.css set `[hidden] { display: none !important; }` so we also need the `!important` here to be able to override the default hidden behavior on the sphinx rendered scikit-learn.org. See: https://github.com/scikit-learn/scikit-learn/issues/21755 */display: inline-block !important;position: relative;}#sk-container-id-1 div.sk-text-repr-fallback {display: none;}</style><div id=\"sk-container-id-1\" class=\"sk-top-container\"><div class=\"sk-text-repr-fallback\"><pre>MultinomialNB()</pre><b>In a Jupyter environment, please rerun this cell to show the HTML representation or trust the notebook. <br />On GitHub, the HTML representation is unable to render, please try loading this page with nbviewer.org.</b></div><div class=\"sk-container\" hidden><div class=\"sk-item\"><div class=\"sk-estimator sk-toggleable\"><input class=\"sk-toggleable__control sk-hidden--visually\" id=\"sk-estimator-id-1\" type=\"checkbox\" checked><label for=\"sk-estimator-id-1\" class=\"sk-toggleable__label sk-toggleable__label-arrow\">MultinomialNB</label><div class=\"sk-toggleable__content\"><pre>MultinomialNB()</pre></div></div></div></div></div>"
      ],
      "text/plain": [
       "MultinomialNB()"
      ]
     },
     "execution_count": 50,
     "metadata": {},
     "output_type": "execute_result"
    }
   ],
   "source": [
    "naive_bayes_model = MultinomialNB()\n",
    "naive_bayes_model.fit(X_train_tfidf_selected, y_train)"
   ]
  },
  {
   "cell_type": "code",
   "execution_count": 51,
   "id": "6fe56530",
   "metadata": {},
   "outputs": [],
   "source": [
    "# Function to return summary of baseline models\n",
    "def score(X_train, y_train, X_val, y_val):\n",
    "    score_df, score_train, score_val = pd.DataFrame(), [], []\n",
    "    y_train_pred,y_val_pred = naive_bayes_model.predict(X_train_tfidf_selected), naive_bayes_model.predict(X_val_tfidf_selected)\n",
    "\n",
    "    score_train.append(accuracy_score(y_train, y_train_pred))\n",
    "    score_val.append(accuracy_score(y_val, y_val_pred))\n",
    "    score_df[\"Training accuracy\"], score_df[\"Validation accuracy\"] = score_train, score_val\n",
    "    return score_df"
   ]
  },
  {
   "cell_type": "code",
   "execution_count": 52,
   "id": "e83f24df",
   "metadata": {},
   "outputs": [
    {
     "data": {
      "text/html": [
       "<div>\n",
       "<style scoped>\n",
       "    .dataframe tbody tr th:only-of-type {\n",
       "        vertical-align: middle;\n",
       "    }\n",
       "\n",
       "    .dataframe tbody tr th {\n",
       "        vertical-align: top;\n",
       "    }\n",
       "\n",
       "    .dataframe thead th {\n",
       "        text-align: right;\n",
       "    }\n",
       "</style>\n",
       "<table border=\"1\" class=\"dataframe\">\n",
       "  <thead>\n",
       "    <tr style=\"text-align: right;\">\n",
       "      <th></th>\n",
       "      <th>Training accuracy</th>\n",
       "      <th>Validation accuracy</th>\n",
       "    </tr>\n",
       "  </thead>\n",
       "  <tbody>\n",
       "    <tr>\n",
       "      <th>0</th>\n",
       "      <td>0.937852</td>\n",
       "      <td>0.935968</td>\n",
       "    </tr>\n",
       "  </tbody>\n",
       "</table>\n",
       "</div>"
      ],
      "text/plain": [
       "   Training accuracy  Validation accuracy\n",
       "0           0.937852             0.935968"
      ]
     },
     "execution_count": 52,
     "metadata": {},
     "output_type": "execute_result"
    }
   ],
   "source": [
    "# Summary of baseline models\n",
    "score(X_train_tfidf_selected, y_train, X_val_tfidf_selected, y_val)"
   ]
  },
  {
   "cell_type": "code",
   "execution_count": 53,
   "id": "428c68c3",
   "metadata": {},
   "outputs": [],
   "source": [
    "# Function to compute and print confusion matrix\n",
    "def conf_mat(y_test, y_test_pred, figsize = (10, 8), font_scale = 1.2, annot_kws_size = 16):\n",
    "    class_names = [0, 1, 2, 3] # ['Electronics', 'Household', 'Books', 'Clothing & Accessories']\n",
    "    tick_marks_y = [0.5, 1.5, 2.5, 3.5]\n",
    "    tick_marks_x = [0.5, 1.5, 2.5, 3.5]\n",
    "    confusion_matrix = metrics.confusion_matrix(y_test, y_test_pred)\n",
    "    confusion_matrix_df = pd.DataFrame(confusion_matrix, range(4), range(4))\n",
    "    plt.figure(figsize = figsize)\n",
    "    sns.set(font_scale = font_scale) # label size\n",
    "    plt.title(\"Confusion Matrix\")\n",
    "    sns.heatmap(confusion_matrix_df, annot = True, annot_kws = {\"size\": annot_kws_size}, fmt = 'd') # font size\n",
    "    plt.yticks(tick_marks_y, class_names, rotation = 'vertical')\n",
    "    plt.xticks(tick_marks_x, class_names, rotation = 'horizontal')\n",
    "    plt.ylabel('True label')\n",
    "    plt.xlabel('Predicted label')\n",
    "    plt.grid(False)\n",
    "    plt.show()"
   ]
  },
  {
   "cell_type": "code",
   "execution_count": 54,
   "id": "a9d36cf6",
   "metadata": {},
   "outputs": [
    {
     "name": "stdout",
     "output_type": "stream",
     "text": [
      "Test accuracy    0.932334\n",
      " \n"
     ]
    },
    {
     "data": {
      "image/png": "[encoded data removed]",
      "text/plain": [
       "<Figure size 1000x800 with 2 Axes>"
      ]
     },
     "metadata": {},
     "output_type": "display_data"
    },
    {
     "name": "stdout",
     "output_type": "stream",
     "text": [
      " \n"
     ]
    }
   ],
   "source": [
    "# Prediction and evaluation on test set\n",
    "naive_bayes_model.fit(X_train_tfidf_selected, y_train)\n",
    "y_test_pred = naive_bayes_model.predict(X_test_tfidf_selected)\n",
    "score_test = accuracy_score(y_test, y_test_pred)\n",
    "print(pd.Series({\"Test accuracy\": score_test}).to_string())\n",
    "print(\" \")\n",
    "conf_mat(y_test, y_test_pred, figsize = (10, 8), font_scale = 1.2, annot_kws_size = 16) # Confusion matrix\n",
    "print(\" \")"
   ]
  },
  {
   "cell_type": "code",
   "execution_count": null,
   "id": "ceff768a",
   "metadata": {},
   "outputs": [],
   "source": []
  }
 ],
 "metadata": {
  "kernelspec": {
   "display_name": "Python 3 (ipykernel)",
   "language": "python",
   "name": "python3"
  },
  "language_info": {
   "codemirror_mode": {
    "name": "ipython",
    "version": 3
   },
   "file_extension": ".py",
   "mimetype": "text/x-python",
   "name": "python",
   "nbconvert_exporter": "python",
   "pygments_lexer": "ipython3",
   "version": "3.10.9"
  }
 },
 "nbformat": 4,
 "nbformat_minor": 5
}
